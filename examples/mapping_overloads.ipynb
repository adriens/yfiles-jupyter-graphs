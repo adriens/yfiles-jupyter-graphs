{
 "cells": [
  {
   "cell_type": "markdown",
   "id": "370b9cb8-a43a-41cf-8501-97c8bff36bfd",
   "metadata": {},
   "source": [
    "# Mapping Overloads"
   ]
  },
  {
   "cell_type": "code",
   "execution_count": 1,
   "id": "d8dfc32a-ddc6-4f8c-a8e2-19e023ebdf04",
   "metadata": {},
   "outputs": [],
   "source": [
    "%%capture\n",
    "!pip install networkx"
   ]
  },
  {
   "cell_type": "code",
   "execution_count": 2,
   "id": "96460077-8de0-4ebe-8f7d-31b50a3cc541",
   "metadata": {},
   "outputs": [],
   "source": [
    "from random import choice, seed"
   ]
  },
  {
   "cell_type": "code",
   "execution_count": 3,
   "id": "32fc85b5-d1fd-4063-8d5a-1db8fdee6209",
   "metadata": {},
   "outputs": [],
   "source": [
    "from typing import Dict"
   ]
  },
  {
   "cell_type": "code",
   "execution_count": 4,
   "id": "f5b54be2-5992-49c7-ab06-5f412a8b354f",
   "metadata": {},
   "outputs": [],
   "source": [
    "from yfiles_jupyter_graphs import GraphWidget"
   ]
  },
  {
   "cell_type": "code",
   "execution_count": 5,
   "id": "1ca53c72-bde0-4545-8c52-20787926c9b7",
   "metadata": {},
   "outputs": [],
   "source": [
    "seed(0)"
   ]
  },
  {
   "cell_type": "code",
   "execution_count": 6,
   "id": "26bf1d90-9149-443d-852d-d73ba4ff7f1d",
   "metadata": {},
   "outputs": [],
   "source": [
    "w = GraphWidget()"
   ]
  },
  {
   "cell_type": "code",
   "execution_count": 7,
   "id": "b1fdaac4-69aa-43f9-ac37-9438509932f0",
   "metadata": {},
   "outputs": [],
   "source": [
    "w.nodes = [\n",
    "    {\"id\": 0, \"properties\": {\"firstName\": \"Alpha\", \"label\": \"Person A\", \"age\": 31}},\n",
    "    {\"id\": \"one\", \"properties\": {\"firstName\": \"Bravo\", \"label\": \"Person B\", \"age\": 56}},\n",
    "    {\"id\": 2.0, \"properties\": {\"firstName\": \"Charlie\", \"label\": \"Person C\", \"age\": 27, \"has_hat\": False}},\n",
    "    {\"id\": True, \"properties\": {\"firstName\": \"Delta\", \"label\": \"Person D\", \"age\": 43, \"likes_pizza\": True}}\n",
    "]\n",
    "w.edges = [\n",
    "    {\"id\": \"zero\", \"start\": 0, \"end\": \"one\", \"properties\": {\"since\": \"1992\", \"label\": \"knows\"}},\n",
    "    {\"id\": 1, \"start\": \"one\", \"end\": True, \"properties\": {\"label\": \"knows\", \"since\": \"1992\"}},\n",
    "    {\"id\": 2.0, \"start\": 2.0, \"end\": True, \"properties\": {\"label\": \"knows\", \"since\": \"1992\"}},\n",
    "    {\"id\": False, \"start\": 0, \"end\": 2.0, \"properties\": {\"label\": \"knows\", \"since\": 234}}\n",
    "]"
   ]
  },
  {
   "cell_type": "code",
   "execution_count": 8,
   "id": "b1d58c66-9cda-4b45-9734-7a0cf434f8a3",
   "metadata": {},
   "outputs": [
    {
     "data": {
      "application/vnd.jupyter.widget-view+json": {
       "model_id": "0fe73c4c37fa46768892e0e7eee1095a",
       "version_major": 2,
       "version_minor": 0
      },
      "text/plain": [
       "GraphWidget(layout=Layout(height='500px', width='100%'))"
      ]
     },
     "metadata": {},
     "output_type": "display_data"
    }
   ],
   "source": [
    "w"
   ]
  },
  {
   "cell_type": "code",
   "execution_count": 9,
   "id": "21dcf2d8-fef2-4107-9ced-329fb0fa518b",
   "metadata": {},
   "outputs": [],
   "source": [
    "# Let's set the size of the nodes based on the age:\n",
    "\n",
    "def custom_node_scale_mapping_age(index: int, item: Dict):\n",
    "    return item['properties']['age'] / 35"
   ]
  },
  {
   "cell_type": "code",
   "execution_count": 10,
   "id": "10a380b1-aae5-497d-8bfb-97a664c52006",
   "metadata": {},
   "outputs": [],
   "source": [
    "w.set_node_scale_factor_mapping(custom_node_scale_mapping_age)"
   ]
  },
  {
   "cell_type": "code",
   "execution_count": 11,
   "id": "0142a369-fd79-4a75-88bf-cfc5a5946695",
   "metadata": {},
   "outputs": [
    {
     "data": {
      "application/vnd.jupyter.widget-view+json": {
       "model_id": "0fe73c4c37fa46768892e0e7eee1095a",
       "version_major": 2,
       "version_minor": 0
      },
      "text/plain": [
       "GraphWidget(layout=Layout(height='500px', width='100%'))"
      ]
     },
     "metadata": {},
     "output_type": "display_data"
    }
   ],
   "source": [
    "w"
   ]
  },
  {
   "cell_type": "code",
   "execution_count": 12,
   "id": "716b1b5c-4cb9-4575-b0bc-8f129314754b",
   "metadata": {},
   "outputs": [],
   "source": [
    "w.del_node_scale_factor_mapping()"
   ]
  },
  {
   "cell_type": "code",
   "execution_count": 13,
   "id": "2898364d-c340-479d-9270-d6ab24a66d15",
   "metadata": {},
   "outputs": [],
   "source": [
    "# There is a shorter way for that:\n",
    "\n",
    "w.node_scale_factor_mapping = lambda index, item : item['properties']['age'] / 35"
   ]
  },
  {
   "cell_type": "code",
   "execution_count": 14,
   "id": "510cd4a8-3b1e-4d87-b269-81cfd3eb678c",
   "metadata": {},
   "outputs": [
    {
     "data": {
      "application/vnd.jupyter.widget-view+json": {
       "model_id": "0fe73c4c37fa46768892e0e7eee1095a",
       "version_major": 2,
       "version_minor": 0
      },
      "text/plain": [
       "GraphWidget(layout=Layout(height='500px', width='100%'))"
      ]
     },
     "metadata": {},
     "output_type": "display_data"
    }
   ],
   "source": [
    "# Both approaches produce the same output.\n",
    "\n",
    "w"
   ]
  },
  {
   "cell_type": "markdown",
   "id": "122a6df2-6aa2-4bf1-9fa4-f23833e2981e",
   "metadata": {},
   "source": [
    "## Functions with less arguments"
   ]
  },
  {
   "cell_type": "code",
   "execution_count": 15,
   "id": "1dcd58ca-b8e6-44df-8ce9-9f4e90b5ea3e",
   "metadata": {},
   "outputs": [],
   "source": [
    "# Next, let's set the colors of the edges:\n",
    "custom_colors = [ '#956518', '#d13471', '#3fa670', '#8375ba' ]\n",
    "\n",
    "w.edge_color_mapping = lambda index : custom_colors[index % len(custom_colors)] # Because the item argument is not used, it can be left out."
   ]
  },
  {
   "cell_type": "code",
   "execution_count": 16,
   "id": "e5803363-0a54-44ec-833c-5c57a195f506",
   "metadata": {},
   "outputs": [
    {
     "data": {
      "application/vnd.jupyter.widget-view+json": {
       "model_id": "0fe73c4c37fa46768892e0e7eee1095a",
       "version_major": 2,
       "version_minor": 0
      },
      "text/plain": [
       "GraphWidget(layout=Layout(height='500px', width='100%'))"
      ]
     },
     "metadata": {},
     "output_type": "display_data"
    }
   ],
   "source": [
    "w"
   ]
  },
  {
   "cell_type": "code",
   "execution_count": 17,
   "id": "3a0be3b8-2d9d-4255-8ddf-e73095bff779",
   "metadata": {},
   "outputs": [],
   "source": [
    "# Sometimes, one doesn't even need the index argument.\n",
    "# The following syntax is especially useful for constant values:\n",
    "\n",
    "w.node_color_mapping = lambda : \"#f22441\""
   ]
  },
  {
   "cell_type": "code",
   "execution_count": 18,
   "id": "e07392fa-5925-4cd9-b669-598c045c3245",
   "metadata": {},
   "outputs": [
    {
     "data": {
      "application/vnd.jupyter.widget-view+json": {
       "model_id": "0fe73c4c37fa46768892e0e7eee1095a",
       "version_major": 2,
       "version_minor": 0
      },
      "text/plain": [
       "GraphWidget(layout=Layout(height='500px', width='100%'))"
      ]
     },
     "metadata": {},
     "output_type": "display_data"
    }
   ],
   "source": [
    "w"
   ]
  },
  {
   "cell_type": "markdown",
   "id": "4ad44737-7713-435a-b266-f36a14497f03",
   "metadata": {},
   "source": [
    "## Overloading with strings"
   ]
  },
  {
   "cell_type": "code",
   "execution_count": 19,
   "id": "42e95561-e42e-4edf-bed0-766550e908e4",
   "metadata": {},
   "outputs": [],
   "source": [
    "# Now, let's set the labels of the nodes to the first names.\n",
    "\n",
    "def custom_label_mapping_name(index: int, item: Dict):\n",
    "    return item['properties']['firstName']"
   ]
  },
  {
   "cell_type": "code",
   "execution_count": 20,
   "id": "95f4fb5c-7570-445f-84d2-c9bf43bc9223",
   "metadata": {},
   "outputs": [],
   "source": [
    "w.set_node_label_mapping(custom_label_mapping_name)"
   ]
  },
  {
   "cell_type": "code",
   "execution_count": 21,
   "id": "801bf8b4-5d93-442a-8940-75c5bc81c913",
   "metadata": {},
   "outputs": [
    {
     "data": {
      "application/vnd.jupyter.widget-view+json": {
       "model_id": "0fe73c4c37fa46768892e0e7eee1095a",
       "version_major": 2,
       "version_minor": 0
      },
      "text/plain": [
       "GraphWidget(layout=Layout(height='500px', width='100%'))"
      ]
     },
     "metadata": {},
     "output_type": "display_data"
    }
   ],
   "source": [
    "w"
   ]
  },
  {
   "cell_type": "code",
   "execution_count": 22,
   "id": "6e5ad34b-344d-44f1-8dce-40fada7b343f",
   "metadata": {},
   "outputs": [
    {
     "data": {
      "text/plain": [
       "'firstName'"
      ]
     },
     "execution_count": 22,
     "metadata": {},
     "output_type": "execute_result"
    }
   ],
   "source": [
    "# For binding to properties, the api provides an easier syntax:\n",
    "\n",
    "w.node_label_mapping = 'firstName'\n",
    "\n",
    "w.get_node_label_mapping()"
   ]
  },
  {
   "cell_type": "code",
   "execution_count": 23,
   "id": "4f5342a5-db59-4790-9ed3-acb05bf6a61a",
   "metadata": {},
   "outputs": [
    {
     "data": {
      "application/vnd.jupyter.widget-view+json": {
       "model_id": "0fe73c4c37fa46768892e0e7eee1095a",
       "version_major": 2,
       "version_minor": 0
      },
      "text/plain": [
       "GraphWidget(layout=Layout(height='500px', width='100%'))"
      ]
     },
     "metadata": {},
     "output_type": "display_data"
    }
   ],
   "source": [
    "# Now, the labels are bound to the 'firstName' property, which produces the same output as before.\n",
    "w"
   ]
  }
 ],
 "metadata": {
  "kernelspec": {
   "display_name": "Python 3",
   "language": "python",
   "name": "python3"
  },
  "language_info": {
   "codemirror_mode": {
    "name": "ipython",
    "version": 3
   },
   "file_extension": ".py",
   "mimetype": "text/x-python",
   "name": "python",
   "nbconvert_exporter": "python",
   "pygments_lexer": "ipython3",
   "version": "3.6.15"
  }
 },
 "nbformat": 4,
 "nbformat_minor": 5
}
