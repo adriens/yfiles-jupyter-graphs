{
 "cells": [
  {
   "cell_type": "markdown",
   "id": "4cc79916-98aa-4d1e-bd5f-94eb03ef51cc",
   "metadata": {},
   "source": [
    "# Visualizing IGraph graphs in yFiles Graphs for Jupyter"
   ]
  },
  {
   "cell_type": "markdown",
   "id": "c6588ec8-b229-4ca1-9cde-cc3aa8e50cbb",
   "metadata": {},
   "source": [
    "Before using the graph widget, install all necessary packages."
   ]
  },
  {
   "cell_type": "code",
   "execution_count": null,
   "id": "308bda31-f1e5-441c-afe8-291743b19970",
   "metadata": {},
   "outputs": [],
   "source": [
    "%pip install yfiles_jupyter_graphs --quiet\n",
    "try:\n",
    "  import google.colab\n",
    "  from google.colab import output\n",
    "  output.enable_custom_widget_manager()\n",
    "except:\n",
    "  pass\n",
    "%pip install igraph --quiet\n",
    "from typing import Dict\n",
    "from igraph import Graph\n",
    "from yfiles_jupyter_graphs import GraphWidget"
   ]
  },
  {
   "cell_type": "markdown",
   "id": "2b2ad4bf-a516-4eaa-80a7-7dfd98bcf88c",
   "metadata": {},
   "source": [
    "## How to import a graph\n",
    "- either import the graph directly when initilizing: ```GraphWidget(graph=your_graph)```\n",
    "- or use the ```w.import_graph(your_graph)``` function, if you already initilized a Widget called ```w```\n",
    "\n",
    "## Notes about IGraph importer\n",
    "- Nodes and edges are identified by index attribute.\n",
    "-  Node and edge properties are provided through attributes method.\n",
    "-  Edges are determined by source and target attribute.\n",
    "-  Any additional data is stored in ```properties```\n",
    "\n",
    "## Import graph from tutorial\n",
    "https://igraph.org/python/tutorial/latest/tutorial.html"
   ]
  },
  {
   "cell_type": "code",
   "execution_count": null,
   "id": "2b183c0f-a452-4d37-a759-88e0207b24e0",
   "metadata": {},
   "outputs": [],
   "source": [
    "g = Graph()\n",
    "g.add_vertices(3)\n",
    "g.add_edges([(0,1), (1,2)])\n",
    "g.add_edges([(2, 0)])\n",
    "g.add_vertices(3)\n",
    "g.add_edges([(2, 3), (3, 4), (4, 5), (5, 3)])\n",
    "display(GraphWidget(graph=g))"
   ]
  },
  {
   "cell_type": "code",
   "execution_count": null,
   "id": "af0601c1-f95e-4ac5-8c04-1ffc1659e3d2",
   "metadata": {},
   "outputs": [],
   "source": [
    "f = Graph([(0,1), (0,2), (2,3), (3,4), (4,2), (2,5), (5,0), (6,3), (5,6)])\n",
    "f.vs[\"name\"] = [\"Alice\", \"Bob\", \"Claire\", \"Dennis\", \"Esther\", \"Frank\", \"George\"]\n",
    "f.vs[\"age\"] = [25, 31, 18, 47, 22, 23, 50]\n",
    "f.vs[\"gender\"] = [\"f\", \"m\", \"f\", \"m\", \"f\", \"m\", \"m\"]\n",
    "f.es[\"is_formal\"] = [False, False, True, True, True, False, True, False, False]\n",
    "\n",
    "w = GraphWidget(graph=f)\n",
    "display(w)"
   ]
  },
  {
   "cell_type": "markdown",
   "id": "ddab99cf-3d72-4714-a91c-6bdacbe40d8b",
   "metadata": {},
   "source": [
    "### Using imported data\n",
    "\n",
    "To use the additional data in ```properties``` we will use the ```is_formal``` key to determine edge directions and the ```gender``` for the node type mapping. \n",
    "\n",
    "Since the type binding only accepts numbers, we'll need to convert the gender to a numerical representation:"
   ]
  },
  {
   "cell_type": "code",
   "execution_count": null,
   "id": "94220416-3397-4c20-88db-5ea3776078e5",
   "metadata": {},
   "outputs": [],
   "source": [
    "w.node_type_mapping = lambda node: 1 if node['properties']['gender'] == 'f' else (2 if node['properties']['gender'] == 'n' else 3)\n",
    "\n",
    "w.directed_mapping = 'is_formal'\n",
    "\n",
    "w.node_label_mapping = lambda node: node['properties'][\"name\"]\n",
    "\n",
    "display(w)"
   ]
  }
 ],
 "metadata": {
  "kernelspec": {
   "display_name": "Python 3",
   "language": "python",
   "name": "python3"
  },
  "language_info": {
   "codemirror_mode": {
    "name": "ipython",
    "version": 3
   },
   "file_extension": ".py",
   "mimetype": "text/x-python",
   "name": "python",
   "nbconvert_exporter": "python",
   "pygments_lexer": "ipython3",
   "version": "3.6.15"
  }
 },
 "nbformat": 4,
 "nbformat_minor": 5
}
