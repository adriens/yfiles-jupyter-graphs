{
 "cells": [
  {
   "cell_type": "markdown",
   "id": "3dc919ef-3010-4d05-b8ad-f768531ad9c0",
   "metadata": {},
   "source": [
    "# Node Position Mapping"
   ]
  },
  {
   "cell_type": "code",
   "execution_count": null,
   "id": "180778af-4029-427f-949b-64c1e97b2d20",
   "metadata": {},
   "outputs": [],
   "source": [
    "%%capture\n",
    "!pip install networkx"
   ]
  },
  {
   "cell_type": "code",
   "execution_count": null,
   "id": "6d908cbe-95b8-4e9e-8e06-b5065458d0c4",
   "metadata": {},
   "outputs": [],
   "source": [
    "from random import seed, random"
   ]
  },
  {
   "cell_type": "code",
   "execution_count": null,
   "id": "bb5468ac-f1fe-48a5-8c1e-e689c3829bf7",
   "metadata": {},
   "outputs": [],
   "source": [
    "from typing import Dict"
   ]
  },
  {
   "cell_type": "code",
   "execution_count": null,
   "id": "7dd7a28a-dd59-49d8-ae59-d3350791d731",
   "metadata": {},
   "outputs": [],
   "source": [
    "from networkx import erdos_renyi_graph"
   ]
  },
  {
   "cell_type": "code",
   "execution_count": null,
   "id": "5ee2abb4-5b2c-4578-9f1b-903d762f2530",
   "metadata": {},
   "outputs": [],
   "source": [
    "from yfiles_jupyter_graphs import GraphWidget"
   ]
  },
  {
   "cell_type": "code",
   "execution_count": null,
   "id": "422f2e22-a4aa-42f4-92a2-a0f404aebdee",
   "metadata": {},
   "outputs": [],
   "source": [
    "seed(0)"
   ]
  },
  {
   "cell_type": "code",
   "execution_count": null,
   "id": "375a3945-273e-4035-8f99-7cd93e211db2",
   "metadata": {},
   "outputs": [],
   "source": [
    "w = GraphWidget()"
   ]
  },
  {
   "cell_type": "code",
   "execution_count": null,
   "id": "282dd51a-1f0f-4e5d-8aea-f644cbb5de4b",
   "metadata": {},
   "outputs": [],
   "source": [
    "g = erdos_renyi_graph(10, 0.3, 2)"
   ]
  },
  {
   "cell_type": "code",
   "execution_count": null,
   "id": "e1266d00-2cdb-4f39-bb30-162bbb20f5ec",
   "metadata": {},
   "outputs": [],
   "source": [
    "w.import_graph(g)"
   ]
  },
  {
   "cell_type": "code",
   "execution_count": null,
   "id": "452730fc-3b33-41ea-b16b-e5427dbcbad8",
   "metadata": {},
   "outputs": [],
   "source": [
    "w"
   ]
  },
  {
   "cell_type": "code",
   "execution_count": null,
   "id": "0b102f13-6d9c-48cb-bb54-48f856331edb",
   "metadata": {},
   "outputs": [],
   "source": [
    "print(w.node_position_mapping.__doc__)"
   ]
  },
  {
   "cell_type": "code",
   "execution_count": null,
   "id": "533ec707-9ac0-45b9-a6f7-7b2c1e19021f",
   "metadata": {},
   "outputs": [],
   "source": [
    "w.get_node_position_mapping()"
   ]
  },
  {
   "cell_type": "code",
   "execution_count": null,
   "id": "b49d09f1-6bd8-4d2e-b0eb-3e898b849a14",
   "metadata": {},
   "outputs": [],
   "source": [
    "node_positions = [((random() - 0.5) * 1000, (random() - 0.5) * 1000) for _ in g.nodes]"
   ]
  },
  {
   "cell_type": "code",
   "execution_count": null,
   "id": "b3535a20-7aa7-4c45-8a19-8ae715d3a266",
   "metadata": {},
   "outputs": [],
   "source": [
    "def custom_node_position_mapping(index: int, node: Dict):\n",
    "    \"\"\"choose position randomly\"\"\"\n",
    "    return node_positions[index]"
   ]
  },
  {
   "cell_type": "code",
   "execution_count": null,
   "id": "c96bf750-6780-4349-97a5-1bf125064d1e",
   "metadata": {},
   "outputs": [],
   "source": [
    "w.set_node_position_mapping(custom_node_position_mapping)"
   ]
  },
  {
   "cell_type": "code",
   "execution_count": null,
   "id": "1a412c0f-14e8-4d10-b0d5-b773d4aa52ab",
   "metadata": {},
   "outputs": [],
   "source": [
    "w.get_node_position_mapping()"
   ]
  },
  {
   "cell_type": "code",
   "execution_count": null,
   "id": "7c30eeb3-3380-4a88-a92d-8d43eea20801",
   "metadata": {},
   "outputs": [],
   "source": [
    "w.orthogonal_edge_router()\n",
    "w"
   ]
  },
  {
   "cell_type": "code",
   "execution_count": null,
   "id": "92680f05-e52e-45e1-99b8-406e2e1d6b9d",
   "metadata": {},
   "outputs": [],
   "source": [
    "w.organic_edge_router()\n",
    "w"
   ]
  },
  {
   "cell_type": "code",
   "execution_count": null,
   "id": "0762d989-ff83-4c6b-b2fc-c9426800a74f",
   "metadata": {},
   "outputs": [],
   "source": [
    "w.del_node_position_mapping()"
   ]
  },
  {
   "cell_type": "code",
   "execution_count": null,
   "id": "c322b1e6-a363-49e1-a3f3-6a5e9793ae2c",
   "metadata": {},
   "outputs": [],
   "source": [
    "w.get_node_position_mapping()"
   ]
  }
 ],
 "metadata": {
  "kernelspec": {
   "display_name": "Python 3",
   "language": "python",
   "name": "python3"
  },
  "language_info": {
   "codemirror_mode": {
    "name": "ipython",
    "version": 3
   },
   "file_extension": ".py",
   "mimetype": "text/x-python",
   "name": "python",
   "nbconvert_exporter": "python",
   "pygments_lexer": "ipython3",
   "version": "3.6.15"
  },
  "widgets": {
   "application/vnd.jupyter.widget-state+json": {
    "state": {},
    "version_major": 2,
    "version_minor": 0
   }
  }
 },
 "nbformat": 4,
 "nbformat_minor": 5
}
