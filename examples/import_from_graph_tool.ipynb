{
 "cells": [
  {
   "cell_type": "code",
   "execution_count": null,
   "id": "9f5b8dc5",
   "metadata": {},
   "outputs": [],
   "source": [
    "from graph_tool import Graph"
   ]
  },
  {
   "cell_type": "code",
   "execution_count": null,
   "id": "7dc62467",
   "metadata": {},
   "outputs": [],
   "source": [
    "from yfiles_jupyter_graphs import GraphWidget"
   ]
  },
  {
   "cell_type": "markdown",
   "id": "ac545c57",
   "metadata": {},
   "source": [
    "# notes about graph tool importer\n",
    "- graph tool nodes/edges are identified by index"
   ]
  },
  {
   "cell_type": "markdown",
   "id": "ed88c6b5",
   "metadata": {},
   "source": [
    "# import from quickstart\n",
    "https://graph-tool.skewed.de/static/doc/quickstart.html#an-example-building-a-price-network"
   ]
  },
  {
   "cell_type": "code",
   "execution_count": null,
   "id": "77a39c3e",
   "metadata": {},
   "outputs": [],
   "source": [
    "from numpy.random import seed, randint"
   ]
  },
  {
   "cell_type": "code",
   "execution_count": null,
   "id": "78fa05f8",
   "metadata": {},
   "outputs": [],
   "source": [
    "seed(0)"
   ]
  },
  {
   "cell_type": "code",
   "execution_count": null,
   "id": "da5ddcfc",
   "metadata": {},
   "outputs": [],
   "source": [
    "# let's construct a Price network (the one that existed before Barabasi). It is\n",
    "# a directed network, with preferential attachment. The algorithm below is\n",
    "# very naive, and a bit slow, but quite simple.\n",
    "\n",
    "# We start with an empty, directed graph\n",
    "g = Graph()\n",
    "\n",
    "# We want also to keep the age information for each vertex and edge. For that\n",
    "# let's create some property maps\n",
    "v_age = g.new_vertex_property(\"int\")\n",
    "e_age = g.new_edge_property(\"int\")\n",
    "\n",
    "# The final size of the network\n",
    "N = 10\n",
    "\n",
    "# We have to start with one vertex\n",
    "v = g.add_vertex()\n",
    "v_age[v] = 0\n",
    "\n",
    "# we will keep a list of the vertices. The number of times a vertex is in this\n",
    "# list will give the probability of it being selected.\n",
    "vlist = [v]\n",
    "\n",
    "# let's now add the new edges and vertices\n",
    "for i in range(1, N):\n",
    "    # create our new vertex\n",
    "    v = g.add_vertex()\n",
    "    v_age[v] = i\n",
    "\n",
    "    # we need to sample a new vertex to be the target, based on its in-degree +\n",
    "    # 1. For that, we simply randomly sample it from vlist.\n",
    "    i = randint(0, len(vlist))\n",
    "    target = vlist[i]\n",
    "\n",
    "    # add edge\n",
    "    e = g.add_edge(v, target)\n",
    "    e_age[e] = i\n",
    "\n",
    "    # put v and target in the list\n",
    "    vlist.append(target)\n",
    "    vlist.append(v)"
   ]
  },
  {
   "cell_type": "code",
   "execution_count": null,
   "id": "b2f0d223",
   "metadata": {},
   "outputs": [],
   "source": [
    "widget = GraphWidget()"
   ]
  },
  {
   "cell_type": "code",
   "execution_count": null,
   "id": "e694d8bb",
   "metadata": {},
   "outputs": [],
   "source": [
    "widget.import_graph(g)"
   ]
  },
  {
   "cell_type": "code",
   "execution_count": null,
   "id": "6c45e032",
   "metadata": {},
   "outputs": [],
   "source": [
    "widget"
   ]
  }
 ],
 "metadata": {
  "kernelspec": {
   "display_name": "Python 3",
   "language": "python",
   "name": "python3"
  },
  "language_info": {
   "codemirror_mode": {
    "name": "ipython",
    "version": 3
   },
   "file_extension": ".py",
   "mimetype": "text/x-python",
   "name": "python",
   "nbconvert_exporter": "python",
   "pygments_lexer": "ipython3",
   "version": "3.6.15"
  }
 },
 "nbformat": 4,
 "nbformat_minor": 5
}
