{
 "cells": [
  {
   "cell_type": "markdown",
   "id": "c505783f-eff4-4261-b32f-1c3c04e91880",
   "metadata": {},
   "source": [
    "# Node Styles Mapping"
   ]
  },
  {
   "cell_type": "code",
   "execution_count": null,
   "id": "3b7bced2-c902-4a47-af3e-49c9df02ca70",
   "metadata": {},
   "outputs": [],
   "source": [
    "%pip install yfiles_jupyter_graphs --quiet\n",
    "try:\n",
    "  import google.colab\n",
    "  from google.colab import output\n",
    "  output.enable_custom_widget_manager()\n",
    "except:\n",
    "  pass"
   ]
  },
  {
   "cell_type": "code",
   "execution_count": 1,
   "id": "f05e8eea-25fb-4ae2-9ea1-a5b9aaf9d6f5",
   "metadata": {},
   "outputs": [],
   "source": [
    "%pip install networkx --quiet"
   ]
  },
  {
   "cell_type": "code",
   "execution_count": 2,
   "id": "c6de7b51-4153-4c8f-b41e-6bee06c33657",
   "metadata": {},
   "outputs": [],
   "source": [
    "from random import choice, seed"
   ]
  },
  {
   "cell_type": "code",
   "execution_count": 3,
   "id": "ba12023e-31a5-4e8d-bd39-ab5d7938c867",
   "metadata": {},
   "outputs": [],
   "source": [
    "from typing import Dict"
   ]
  },
  {
   "cell_type": "code",
   "execution_count": 4,
   "id": "157d6a25-426c-4f4c-8d06-4ada1c605f25",
   "metadata": {},
   "outputs": [],
   "source": [
    "from networkx import erdos_renyi_graph"
   ]
  },
  {
   "cell_type": "code",
   "execution_count": 5,
   "id": "6959c3fb-d90e-4662-b1bd-757ee7eeaacf",
   "metadata": {},
   "outputs": [],
   "source": [
    "from yfiles_jupyter_graphs import GraphWidget"
   ]
  },
  {
   "cell_type": "code",
   "execution_count": 6,
   "id": "e025d0ee-9b0e-4174-a9d3-dee42c10fa3d",
   "metadata": {},
   "outputs": [],
   "source": [
    "seed(0)"
   ]
  },
  {
   "cell_type": "code",
   "execution_count": 7,
   "id": "011f9b1d-0144-4ecd-95f8-37e27e4e34b0",
   "metadata": {},
   "outputs": [],
   "source": [
    "w = GraphWidget()"
   ]
  },
  {
   "cell_type": "code",
   "execution_count": 8,
   "id": "a155ea26-7943-4731-aeae-ffeac7720620",
   "metadata": {},
   "outputs": [],
   "source": [
    "g = erdos_renyi_graph(10, 0.3, 2)"
   ]
  },
  {
   "cell_type": "code",
   "execution_count": 9,
   "id": "0b5f3c3f-4e7c-4714-9395-a36c27a5a96c",
   "metadata": {},
   "outputs": [],
   "source": [
    "w.import_graph(g)"
   ]
  },
  {
   "cell_type": "code",
   "execution_count": 10,
   "id": "90753ed7-660c-4f23-8e7c-96061a9c30bd",
   "metadata": {},
   "outputs": [
    {
     "data": {
      "application/vnd.jupyter.widget-view+json": {
       "model_id": "2c2f9cb8437745bea5aef8919d5d1ccf",
       "version_major": 2,
       "version_minor": 0
      },
      "text/plain": [
       "GraphWidget(layout=Layout(height='500px', width='100%'))"
      ]
     },
     "metadata": {},
     "output_type": "display_data"
    }
   ],
   "source": [
    "w"
   ]
  },
  {
   "cell_type": "code",
   "execution_count": 11,
   "id": "fd44aeec-8d1a-4b72-bf1e-cbccf63095ad",
   "metadata": {},
   "outputs": [
    {
     "name": "stdout",
     "output_type": "stream",
     "text": [
      "The default styles mapping for nodes.\n",
      "\n",
      "        Parameters\n",
      "        ----------\n",
      "        index: int\n",
      "        node: typing.Dict\n",
      "\n",
      "        Notes\n",
      "        -----\n",
      "        This is the default value for the `node_styles_mapping` property.\n",
      "        Can be 'overwritten' by setting the property\n",
      "        with a function of the same signature.\n",
      "\n",
      "        Example\n",
      "        -------\n",
      "        .. code::\n",
      "\n",
      "           from yfiles_jupyter_graphs import GraphWidget\n",
      "           w = GraphWidget()\n",
      "           def custom_node_styles_mapping(index: int, node: typing.Dict):\n",
      "           ...\n",
      "           w.set_node_styles_mapping(custom_node_styles_mapping)\n",
      "\n",
      "        Returns\n",
      "        -------\n",
      "        \n",
      "        styles: typing.Dict\n",
      "            can contain the following key-value-pairs:\n",
      "                \"color\": str\n",
      "                    css color value\n",
      "                \"shape\": str\n",
      "                    yfiles node shapes\n",
      "\n",
      "        References\n",
      "        ----------\n",
      "        `css color value <https://developer.mozilla.org/en-US/docs/Web/CSS/color_value>`_\n",
      "\n",
      "        `yFiles docs Fill api <https://docs.yworks.com/yfileshtml/#/api/Fill>`_\n",
      "\n",
      "        `yFiles docs ShapeNodeShape api <https://docs.yworks.com/yfileshtml/#/api/ShapeNodeShape>`_\n",
      "\n",
      "        `yFiles docs WebGL2ShapeNodeShape api <https://docs.yworks.com/yfileshtml/#/api/WebGL2ShapeNodeShape>`_\n",
      "\n",
      "        \n"
     ]
    }
   ],
   "source": [
    "print(w.node_styles_mapping.__doc__)"
   ]
  },
  {
   "cell_type": "code",
   "execution_count": 12,
   "id": "bee2ba79-60b0-42fe-9c3a-22c25d0f1454",
   "metadata": {},
   "outputs": [
    {
     "data": {
      "text/plain": [
       "<function yfiles_jupyter_graphs.widget.GraphWidget.default_node_styles_mapping(index:int, node:Dict)>"
      ]
     },
     "execution_count": 12,
     "metadata": {},
     "output_type": "execute_result"
    }
   ],
   "source": [
    "w.get_node_styles_mapping()"
   ]
  },
  {
   "cell_type": "markdown",
   "id": "7a95bbb7-e681-473b-a5ab-8da88f826b6e",
   "metadata": {},
   "source": [
    "## Node Styles Mapping with 'shape' and 'color'"
   ]
  },
  {
   "cell_type": "code",
   "execution_count": 13,
   "id": "e10120bd-25df-497f-b458-9c7e1a0d9225",
   "metadata": {},
   "outputs": [],
   "source": [
    "node_shapes = [\"rectangle\", \"round-rectangle\", \"ellipse\", \"hexagon\", \"hexagon2\", \"octagon\", \"triangle\", \"pill\"]"
   ]
  },
  {
   "cell_type": "code",
   "execution_count": 14,
   "id": "0ca2b465-aaa2-4bb8-ae7a-402a9d5e4d57",
   "metadata": {},
   "outputs": [],
   "source": [
    "def custom_styles_mapping(index: int, node: Dict):\n",
    "    \"\"\"Select a shape and a random color for the node\"\"\"\n",
    "    return {\n",
    "        'shape': node_shapes[index % len(node_shapes)],\n",
    "        'color': \"#\"+''.join([choice('0123456789abcdef') for j in range(6)])\n",
    "    }"
   ]
  },
  {
   "cell_type": "code",
   "execution_count": 15,
   "id": "6c4f8316-4f7b-4aeb-bb96-89709c3850dd",
   "metadata": {},
   "outputs": [],
   "source": [
    "w.set_node_styles_mapping(custom_styles_mapping)"
   ]
  },
  {
   "cell_type": "code",
   "execution_count": 16,
   "id": "ce7d88fc-0175-43a4-b2f3-424ed54e42d3",
   "metadata": {},
   "outputs": [
    {
     "data": {
      "text/plain": [
       "<function __main__.custom_styles_mapping(index:int, node:Dict)>"
      ]
     },
     "execution_count": 16,
     "metadata": {},
     "output_type": "execute_result"
    }
   ],
   "source": [
    "w.get_node_styles_mapping()"
   ]
  },
  {
   "cell_type": "code",
   "execution_count": 17,
   "id": "722fb418-64e7-4613-8957-9db07de19c56",
   "metadata": {},
   "outputs": [
    {
     "data": {
      "application/vnd.jupyter.widget-view+json": {
       "model_id": "2c2f9cb8437745bea5aef8919d5d1ccf",
       "version_major": 2,
       "version_minor": 0
      },
      "text/plain": [
       "GraphWidget(layout=Layout(height='500px', width='100%'))"
      ]
     },
     "metadata": {},
     "output_type": "display_data"
    }
   ],
   "source": [
    "w"
   ]
  },
  {
   "cell_type": "markdown",
   "id": "534eb6bb-4cfb-4dcf-a16b-f7249fc04271",
   "metadata": {},
   "source": [
    "Note that you can inspect the styles property in the data tab by selecting a node."
   ]
  },
  {
   "cell_type": "code",
   "execution_count": 18,
   "id": "b67a2f3a-029e-40eb-8685-11ef42eb1392",
   "metadata": {},
   "outputs": [],
   "source": [
    "w.del_node_styles_mapping()"
   ]
  },
  {
   "cell_type": "code",
   "execution_count": 19,
   "id": "e7bfb24f-3fc2-4140-b40c-07e149bd69fb",
   "metadata": {},
   "outputs": [
    {
     "data": {
      "application/vnd.jupyter.widget-view+json": {
       "model_id": "2c2f9cb8437745bea5aef8919d5d1ccf",
       "version_major": 2,
       "version_minor": 0
      },
      "text/plain": [
       "GraphWidget(layout=Layout(height='500px', width='100%'))"
      ]
     },
     "metadata": {},
     "output_type": "display_data"
    }
   ],
   "source": [
    "w"
   ]
  },
  {
   "cell_type": "markdown",
   "id": "4d47d085-d52f-422a-855e-bad8ed22b0da",
   "metadata": {},
   "source": [
    "## Node Styles Mapping with 'image'"
   ]
  },
  {
   "cell_type": "code",
   "execution_count": 20,
   "id": "2b11c049-2a1e-4f1a-b5b5-3d3965b2ed99",
   "metadata": {},
   "outputs": [],
   "source": [
    "dataURI = \"data:image/svg+xml,%3C%3Fxml version='1.0' encoding='UTF-8'%3F%3E%3Csvg id='a' xmlns='http://www.w3.org/2000/svg' viewBox='0 0 88.66 93.76'%3E%3Cg id='b'%3E%3Cpath d='M0,37.41l.09,19.36c.04,9.83,5.33,18.89,13.87,23.77l16.81,9.6c8.54,4.88,19.03,4.83,27.52-.13l16.72-9.76c8.49-4.96,13.69-14.06,13.65-23.9l-.09-19.36c-.05-9.83-5.33-18.89-13.87-23.77L57.89,3.62c-8.54-4.88-19.03-4.83-27.52,.13L13.65,13.51C5.16,18.46-.05,27.57,0,37.41' fill='%23242265'/%3E%3Cg id='c'%3E%3Cg%3E%3Cpath d='M42.96,64.19c-.36,1.68-1.19,3.18-2.05,4.66-1.58,2.73-3.04,6.12-.89,9.02,1.71,2.31,5.08,2.85,7.48,1.19,2.92-2.03,2.76-5.81,1.24-8.65-.78-1.45-1.7-2.81-2.33-4.34-.69-1.67-.93-3.42-.97-5.22,0-.36,0-.73-.01-1.09h-2.11c0,1.48-.05,2.99-.36,4.43Z' fill='%23fff'/%3E%3Cpath d='M42.96,29.53c-.36-1.68-1.19-3.18-2.05-4.66-1.58-2.73-3.04-6.12-.89-9.02,1.71-2.31,5.08-2.85,7.48-1.19,2.92,2.03,2.76,5.81,1.24,8.65-.78,1.45-1.7,2.81-2.33,4.34-.69,1.67-.93,3.42-.97,5.22,0,.36,0,.73-.01,1.09h-2.11c0-1.48-.05-2.99-.36-4.43Z' fill='%23fff'/%3E%3Crect x='43.32' y='33.66' width='2.11' height='26.44' fill='%23fff'/%3E%3C/g%3E%3Cg%3E%3Cpath d='M30.07,56.75c-1.27,1.15-2.16,2.63-3.01,4.1-1.57,2.73-3.78,5.69-7.37,5.28-2.86-.32-5.01-2.97-4.77-5.88,.3-3.55,3.65-5.3,6.87-5.4,1.64-.05,3.28,.06,4.92-.15,1.8-.24,3.43-.9,5.01-1.77,.32-.18,.63-.35,.95-.53l1.05,1.83c-1.29,.73-2.56,1.54-3.65,2.53Z' fill='%23fff'/%3E%3Cpath d='M60.09,39.42c1.63-.53,3.35-.56,5.06-.55,3.15,0,6.82-.43,8.26-3.74,1.15-2.64-.07-5.83-2.71-7.07-3.22-1.52-6.41,.51-8.11,3.25-.87,1.4-1.58,2.87-2.59,4.19-1.1,1.44-2.5,2.52-4.04,3.45-.31,.19-.62,.37-.94,.55l1.05,1.83c1.28-.75,2.62-1.45,4.01-1.9Z' fill='%23fff'/%3E%3Crect x='43.3' y='33.65' width='2.11' height='26.44' transform='translate(25.94 108.72) rotate(-120)' fill='%23fff'/%3E%3C/g%3E%3Cg%3E%3Cpath d='M60.09,54.3c1.63,.53,3.35,.56,5.06,.55,3.15,0,6.82,.43,8.26,3.74,1.15,2.64-.07,5.83-2.71,7.07-3.22,1.52-6.41-.51-8.11-3.25-.87-1.4-1.58-2.87-2.59-4.19-1.1-1.44-2.5-2.52-4.04-3.45-.31-.19-.62-.37-.94-.55l1.05-1.83c1.28,.75,2.62,1.45,4.01,1.9Z' fill='%23fff'/%3E%3Cpath d='M30.07,36.97c-1.27-1.15-2.16-2.63-3.01-4.1-1.57-2.73-3.78-5.69-7.37-5.28-2.86,.32-5.01,2.97-4.77,5.88,.3,3.55,3.65,5.3,6.87,5.4,1.64,.05,3.28-.06,4.92,.15,1.8,.24,3.43,.9,5.01,1.77,.32,.18,.63,.35,.95,.53l1.05-1.83c-1.29-.73-2.56-1.54-3.65-2.53Z' fill='%23fff'/%3E%3Crect x='43.34' y='33.65' width='2.11' height='26.44' transform='translate(107.18 31.86) rotate(120)' fill='%23fff'/%3E%3C/g%3E%3Cg%3E%3Cpath d='M66.99,50.35c-.36,1.68-1.19,3.18-2.05,4.66-1.58,2.73-3.04,6.12-.89,9.02,1.71,2.31,5.08,2.85,7.48,1.19,2.92-2.03,2.76-5.81,1.24-8.65-.78-1.45-1.7-2.81-2.33-4.34-.69-1.67-.93-3.42-.97-5.22,0-.36,0-.73-.01-1.09h-2.11c0,1.48-.05,2.99-.36,4.43Z' fill='%23fff'/%3E%3Cpath d='M66.99,43.37c-.36-1.68-1.19-3.18-2.05-4.66-1.58-2.73-3.04-6.12-.89-9.02,1.71-2.31,5.08-2.85,7.48-1.19,2.92,2.03,2.76,5.81,1.24,8.65-.78,1.45-1.7,2.81-2.33,4.34-.69,1.67-.93,3.42-.97,5.22,0,.36,0,.73-.01,1.09h-2.11c0-1.48-.05-2.99-.36-4.43Z' fill='%23fff'/%3E%3C/g%3E%3Cg%3E%3Cpath d='M18.87,50.35c-.36,1.68-1.19,3.18-2.05,4.66-1.58,2.73-3.04,6.12-.89,9.02,1.71,2.31,5.08,2.85,7.48,1.19,2.92-2.03,2.76-5.81,1.24-8.65-.78-1.45-1.7-2.81-2.33-4.34-.69-1.67-.93-3.42-.97-5.22,0-.36,0-.73-.01-1.09h-2.11c0,1.48-.05,2.99-.36,4.43Z' fill='%23fff'/%3E%3Cpath d='M18.87,43.37c-.36-1.68-1.19-3.18-2.05-4.66-1.58-2.73-3.04-6.12-.89-9.02,1.71-2.31,5.08-2.85,7.48-1.19,2.92,2.03,2.76,5.81,1.24,8.65-.78,1.45-1.7,2.81-2.33,4.34-.69,1.67-.93,3.42-.97,5.22,0,.36,0,.73-.01,1.09h-2.11c0-1.48-.05-2.99-.36-4.43Z' fill='%23fff'/%3E%3C/g%3E%3Cg%3E%3Cpath d='M30.02,29.06c-1.27,1.15-2.16,2.63-3.01,4.1-1.57,2.73-3.78,5.69-7.37,5.28-2.86-.32-5.01-2.97-4.77-5.88,.3-3.55,3.65-5.3,6.87-5.4,1.64-.05,3.28,.06,4.92-.15,1.8-.24,3.43-.9,5.01-1.77,.32-.18,.63-.35,.95-.53l1.05,1.83c-1.29,.73-2.56,1.54-3.65,2.53Z' fill='%23fff'/%3E%3Cpath d='M36.06,25.58c1.63-.53,3.35-.56,5.06-.55,3.15,0,6.82-.43,8.26-3.74,1.15-2.64-.07-5.83-2.71-7.07-3.22-1.52-6.41,.51-8.11,3.25-.87,1.4-1.58,2.87-2.59,4.19-1.1,1.44-2.5,2.52-4.04,3.45-.31,.19-.62,.37-.94,.55l1.05,1.83c1.28-.75,2.62-1.45,4.01-1.9Z' fill='%23fff'/%3E%3C/g%3E%3Cg%3E%3Cpath d='M54.1,70.6c-1.27,1.15-2.16,2.63-3.01,4.1-1.57,2.73-3.78,5.69-7.37,5.28-2.86-.32-5.01-2.97-4.77-5.88,.3-3.55,3.65-5.3,6.87-5.4,1.64-.05,3.28,.06,4.92-.15,1.8-.24,3.43-.9,5.01-1.77,.32-.18,.63-.35,.95-.53l1.05,1.83c-1.29,.73-2.56,1.54-3.65,2.53Z' fill='%23fff'/%3E%3Cpath d='M60.14,67.12c1.63-.53,3.35-.56,5.06-.55,3.15,0,6.82-.43,8.26-3.74,1.15-2.64-.07-5.83-2.71-7.07-3.22-1.52-6.41,.51-8.11,3.25-.87,1.4-1.58,2.87-2.59,4.19-1.1,1.44-2.5,2.52-4.04,3.45-.31,.19-.62,.37-.94,.55l1.05,1.83c1.28-.75,2.62-1.45,4.01-1.9Z' fill='%23fff'/%3E%3C/g%3E%3Cg%3E%3Cpath d='M58.73,29.06c1.27,1.15,2.16,2.63,3.01,4.1,1.57,2.73,3.78,5.69,7.37,5.28,2.86-.32,5.01-2.97,4.77-5.88-.3-3.55-3.65-5.3-6.87-5.4-1.64-.05-3.28,.06-4.92-.15-1.8-.24-3.43-.9-5.01-1.77-.32-.18-.63-.35-.95-.53l-1.05,1.83c1.29,.73,2.56,1.54,3.65,2.53Z' fill='%23fff'/%3E%3Cpath d='M52.69,25.58c-1.63-.53-3.35-.56-5.06-.55-3.15,0-6.82-.43-8.26-3.74-1.15-2.64,.07-5.83,2.71-7.07,3.22-1.52,6.41,.51,8.11,3.25,.87,1.4,1.58,2.87,2.59,4.19,1.1,1.44,2.5,2.52,4.04,3.45,.31,.19,.62,.37,.94,.55l-1.05,1.83c-1.28-.75-2.62-1.45-4.01-1.9Z' fill='%23fff'/%3E%3C/g%3E%3Cg%3E%3Cpath d='M34.64,70.6c1.27,1.15,2.16,2.63,3.01,4.1,1.57,2.73,3.78,5.69,7.37,5.28,2.86-.32,5.01-2.97,4.77-5.88-.3-3.55-3.65-5.3-6.87-5.4-1.64-.05-3.28,.06-4.92-.15-1.8-.24-3.43-.9-5.01-1.77-.32-.18-.63-.35-.95-.53l-1.05,1.83c1.29,.73,2.56,1.54,3.65,2.53Z' fill='%23fff'/%3E%3Cpath d='M28.6,67.12c-1.63-.53-3.35-.56-5.06-.55-3.15,0-6.82-.43-8.26-3.74-1.15-2.64,.07-5.83,2.71-7.07,3.22-1.52,6.41,.51,8.11,3.25,.87,1.4,1.58,2.87,2.59,4.19,1.1,1.44,2.5,2.52,4.04,3.45,.31,.19,.62,.37,.94,.55l-1.05,1.83c-1.28-.75-2.62-1.45-4.01-1.9Z' fill='%23fff'/%3E%3C/g%3E%3Cg%3E%3Cg%3E%3Cpath d='M61.95,41.28c.53-1.63,.56-3.35,.55-5.06,0-3.15,.43-6.82,3.74-8.26,2.64-1.15,5.83,.07,7.07,2.71,1.52,3.22-.51,6.41-3.25,8.11-1.4,.87-2.87,1.58-4.19,2.59-1.44,1.1-2.52,2.5-3.45,4.04-.19,.31-.37,.62-.55,.94l-1.83-1.05c.75-1.28,1.45-2.62,1.9-4.01Z' fill='%23fff'/%3E%3Cpath d='M48.36,64.86c-1.15,1.27-2.63,2.16-4.1,3.01-2.73,1.57-5.69,3.78-5.28,7.37,.32,2.86,2.97,5.01,5.88,4.77,3.55-.3,5.3-3.65,5.4-6.87,.05-1.64-.06-3.28,.15-4.92,.24-1.8,.9-3.43,1.77-5.01,.18-.32,.35-.63,.53-.95l-1.83-1.05c-.73,1.29-1.54,2.56-2.53,3.65Z' fill='%23fff'/%3E%3Crect x='55.82' y='42.51' width='2.11' height='20.88' transform='translate(34.09 -21.34) rotate(30)' fill='%23fff'/%3E%3C/g%3E%3Cg%3E%3Cpath d='M26.79,41.28c-.53-1.63-.56-3.35-.55-5.06,0-3.15-.43-6.82-3.74-8.26-2.64-1.15-5.83,.07-7.07,2.71-1.52,3.22,.51,6.41,3.25,8.11,1.4,.87,2.87,1.58,4.19,2.59,1.44,1.1,2.52,2.5,3.45,4.04,.19,.31,.37,.62,.55,.94l1.83-1.05c-.75-1.28-1.45-2.62-1.9-4.01Z' fill='%23fff'/%3E%3Cpath d='M40.39,64.86c1.15,1.27,2.63,2.16,4.1,3.01,2.73,1.57,5.69,3.78,5.28,7.37-.32,2.86-2.97,5.01-5.88,4.77-3.55-.3-5.3-3.65-5.4-6.87-.05-1.64,.06-3.28-.15-4.92-.24-1.8-.9-3.43-1.77-5.01-.18-.32-.35-.63-.53-.95l1.83-1.05c.73,1.29,1.54,2.56,2.53,3.65Z' fill='%23fff'/%3E%3Crect x='30.82' y='42.51' width='2.11' height='20.88' transform='translate(85.95 82.86) rotate(150)' fill='%23fff'/%3E%3C/g%3E%3Cg%3E%3Cpath d='M57.96,34.4c1.68,.36,3.18,1.19,4.66,2.05,2.73,1.58,6.12,3.04,9.02,.89,2.31-1.71,2.85-5.08,1.19-7.48-2.03-2.92-5.81-2.76-8.65-1.24-1.45,.78-2.81,1.7-4.34,2.33-1.67,.69-3.42,.93-5.22,.97-.36,0-.73,0-1.09,.01v2.11c1.48,0,2.99,.05,4.43,.36Z' fill='%23fff'/%3E%3Cpath d='M30.75,34.39c-1.68,.36-3.18,1.19-4.66,2.05-2.73,1.58-6.12,3.04-9.02,.89-2.31-1.71-2.85-5.08-1.19-7.48,2.03-2.92,5.81-2.76,8.65-1.24,1.45,.78,2.81,1.7,4.34,2.33,1.67,.69,3.42,.93,5.22,.97,.36,0,.73,0,1.09,.01v2.11c-1.48,0-2.99,.05-4.43,.36Z' fill='%23fff'/%3E%3Crect x='44.26' y='22.53' width='2.11' height='20.88' transform='translate(12.35 78.29) rotate(-90)' fill='%23fff'/%3E%3C/g%3E%3C/g%3E%3Ccircle cx='44.37' cy='19.13' r='5.43' fill='%23fff'/%3E%3Ccircle cx='44.37' cy='74.59' r='5.43' fill='%23fff'/%3E%3Ccircle cx='68.39' cy='32.99' r='5.43' fill='%23fff'/%3E%3Ccircle cx='20.36' cy='60.72' r='5.43' fill='%23fff'/%3E%3Ccircle cx='20.36' cy='32.99' r='5.43' fill='%23fff'/%3E%3Ccircle cx='68.39' cy='60.72' r='5.43' fill='%23fff'/%3E%3C/g%3E%3C/g%3E%3C/svg%3E\""
   ]
  },
  {
   "cell_type": "code",
   "execution_count": 21,
   "id": "fb4e330a-4852-4efe-8146-2dbbff4d2417",
   "metadata": {},
   "outputs": [],
   "source": [
    "def custom_styles_mapping_image(index: int, item: Dict):\n",
    "    if index % 2 == 0:\n",
    "        return {\n",
    "            'image': dataURI\n",
    "        }\n",
    "    else:\n",
    "        return {}"
   ]
  },
  {
   "cell_type": "code",
   "execution_count": 22,
   "id": "2f10d8ce-56b6-419f-95eb-2d6fb2b9816c",
   "metadata": {},
   "outputs": [],
   "source": [
    "w.set_node_styles_mapping(custom_styles_mapping_image)"
   ]
  },
  {
   "cell_type": "code",
   "execution_count": 23,
   "id": "3d27abbd-e214-491b-abba-3ff14d7a6293",
   "metadata": {},
   "outputs": [
    {
     "data": {
      "application/vnd.jupyter.widget-view+json": {
       "model_id": "2c2f9cb8437745bea5aef8919d5d1ccf",
       "version_major": 2,
       "version_minor": 0
      },
      "text/plain": [
       "GraphWidget(layout=Layout(height='500px', width='100%'))"
      ]
     },
     "metadata": {},
     "output_type": "display_data"
    }
   ],
   "source": [
    "w"
   ]
  },
  {
   "cell_type": "code",
   "execution_count": 24,
   "id": "14d0a162-52c1-4b1c-a54b-0ac798a46a43",
   "metadata": {},
   "outputs": [],
   "source": [
    "w.del_node_styles_mapping()"
   ]
  },
  {
   "cell_type": "code",
   "execution_count": 25,
   "id": "362ff151-20f8-4dba-aa8a-23f0c321d281",
   "metadata": {},
   "outputs": [],
   "source": [
    "# Note that the 'image' property can also be set to a url, but only if it allows cross-origin:\n",
    "\n",
    "def custom_styles_mapping_image_url(index: int, item: Dict):\n",
    "    if index % 2 == 0:\n",
    "        return {\n",
    "            'image': 'https://gist.githubusercontent.com/fskpf/b5c5b765139056ddc7e72ea28d4f44e4/raw/f4483469a9d4f638a8acae39aa6adfd76b61f587/yfiles-jupyter-graphs-icon.svg'\n",
    "        }\n",
    "    else:\n",
    "        return {}"
   ]
  },
  {
   "cell_type": "code",
   "execution_count": 26,
   "id": "2466cc83-fe87-4f92-aa05-ae11dacff4fe",
   "metadata": {},
   "outputs": [],
   "source": [
    "w.set_node_styles_mapping(custom_styles_mapping_image_url)"
   ]
  },
  {
   "cell_type": "code",
   "execution_count": 27,
   "id": "aba9973b-5c84-40ec-a061-a33a23eb1c4b",
   "metadata": {},
   "outputs": [
    {
     "data": {
      "application/vnd.jupyter.widget-view+json": {
       "model_id": "2c2f9cb8437745bea5aef8919d5d1ccf",
       "version_major": 2,
       "version_minor": 0
      },
      "text/plain": [
       "GraphWidget(layout=Layout(height='500px', width='100%'))"
      ]
     },
     "metadata": {},
     "output_type": "display_data"
    }
   ],
   "source": [
    "w"
   ]
  },
  {
   "cell_type": "markdown",
   "id": "d902101c-a96f-404c-a953-cebb4c857831",
   "metadata": {},
   "source": [
    "## Node Styles Mapping with 'image', 'shape' and 'color'"
   ]
  },
  {
   "cell_type": "markdown",
   "id": "3b32135b-fa82-4337-84a4-0a2dae40d891",
   "metadata": {},
   "source": [
    "If the styles property contains values for 'image', but for 'shape' or 'color' as well, the former will be used for the nodes and 'shape' and 'color' will be ignored."
   ]
  },
  {
   "cell_type": "code",
   "execution_count": 28,
   "id": "d83f4844-898c-4e5e-804a-a7fd7dde3542",
   "metadata": {},
   "outputs": [],
   "source": [
    "def custom_styles_mapping_image_shape_color(index: int, item: Dict):\n",
    "    return {\n",
    "        'shape': 'triangle',\n",
    "        'color': 'red',\n",
    "        'image': dataURI\n",
    "    }"
   ]
  },
  {
   "cell_type": "code",
   "execution_count": 29,
   "id": "a2fd27d5-ce85-411d-93cf-882592ac12ce",
   "metadata": {},
   "outputs": [],
   "source": [
    "w.set_node_styles_mapping(custom_styles_mapping_image_shape_color)"
   ]
  },
  {
   "cell_type": "code",
   "execution_count": 30,
   "id": "8f0973d6-d4b6-4a4e-bcfd-fcb67a1ef355",
   "metadata": {},
   "outputs": [
    {
     "data": {
      "application/vnd.jupyter.widget-view+json": {
       "model_id": "2c2f9cb8437745bea5aef8919d5d1ccf",
       "version_major": 2,
       "version_minor": 0
      },
      "text/plain": [
       "GraphWidget(layout=Layout(height='500px', width='100%'))"
      ]
     },
     "metadata": {},
     "output_type": "display_data"
    }
   ],
   "source": [
    "w"
   ]
  },
  {
   "cell_type": "code",
   "execution_count": 31,
   "id": "71941b98-be0f-4aa3-8692-35ee20a070e0",
   "metadata": {},
   "outputs": [],
   "source": [
    "w.del_node_styles_mapping()"
   ]
  },
  {
   "cell_type": "markdown",
   "id": "d584df2c-a2c1-4770-9dff-bad7e6af93f7",
   "metadata": {},
   "source": [
    "## Node Styles Mapping and Node Color Mapping"
   ]
  },
  {
   "cell_type": "code",
   "execution_count": 32,
   "id": "a9ab18b7-8ab6-4c1c-a762-ae454514320a",
   "metadata": {},
   "outputs": [],
   "source": [
    "def custom_styles_mapping_red(index: int, item: Dict):\n",
    "    if index % 2 == 0:\n",
    "        return {\n",
    "            'color': 'red'\n",
    "        }\n",
    "    else:\n",
    "        return {}"
   ]
  },
  {
   "cell_type": "code",
   "execution_count": 33,
   "id": "3ff99696-7b00-4db3-86fb-f8e915678090",
   "metadata": {},
   "outputs": [],
   "source": [
    "def custom_color_mapping_blue(index: int, item: Dict):\n",
    "    return 'blue'"
   ]
  },
  {
   "cell_type": "code",
   "execution_count": 34,
   "id": "96c9e8b7-9d68-4a3f-9fd8-eba39135e41a",
   "metadata": {},
   "outputs": [],
   "source": [
    "w.set_node_styles_mapping(custom_styles_mapping_red)\n",
    "w.set_node_color_mapping(custom_color_mapping_blue)"
   ]
  },
  {
   "cell_type": "code",
   "execution_count": 35,
   "id": "46fe720d-56fd-4a00-82c2-0bfbb68a9b3c",
   "metadata": {},
   "outputs": [
    {
     "data": {
      "application/vnd.jupyter.widget-view+json": {
       "model_id": "2c2f9cb8437745bea5aef8919d5d1ccf",
       "version_major": 2,
       "version_minor": 0
      },
      "text/plain": [
       "GraphWidget(layout=Layout(height='500px', width='100%'))"
      ]
     },
     "metadata": {},
     "output_type": "display_data"
    }
   ],
   "source": [
    "# Only every second node is blue, although all of them are set to blue by the node_color_mapping.\n",
    "# The api tries to get the 'color' property on 'styles'.\n",
    "# If it doesn't exist, it will use the 'color' from custom_color_mapping instead.\n",
    "\n",
    "w"
   ]
  }
 ],
 "metadata": {
  "kernelspec": {
   "display_name": "Python 3 (ipykernel)",
   "language": "python",
   "name": "python3"
  },
  "language_info": {
   "codemirror_mode": {
    "name": "ipython",
    "version": 3
   },
   "file_extension": ".py",
   "mimetype": "text/x-python",
   "name": "python",
   "nbconvert_exporter": "python",
   "pygments_lexer": "ipython3",
   "version": "3.11.3"
  }
 },
 "nbformat": 4,
 "nbformat_minor": 5
}
