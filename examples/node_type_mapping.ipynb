{
 "cells": [
  {
   "cell_type": "markdown",
   "id": "c4e076fc-ebb5-457c-b6c9-383f28e8aaa2",
   "metadata": {},
   "source": [
    "# Node Type Mapping"
   ]
  },
  {
   "cell_type": "code",
   "execution_count": null,
   "id": "4f359fbd-3062-4a13-9693-23807d5161a6",
   "metadata": {},
   "outputs": [],
   "source": [
    "from typing import Dict"
   ]
  },
  {
   "cell_type": "code",
   "execution_count": null,
   "id": "56d1391f-baf4-4d3b-ad56-f3ea0dfceae6",
   "metadata": {},
   "outputs": [],
   "source": [
    "from yfiles_jupyter_graphs import GraphWidget"
   ]
  },
  {
   "cell_type": "code",
   "execution_count": null,
   "id": "9d2b27f5-9607-45e7-a8ba-effc7ffb04e9",
   "metadata": {},
   "outputs": [],
   "source": [
    "w = GraphWidget()"
   ]
  },
  {
   "cell_type": "code",
   "execution_count": null,
   "id": "a7bc0382-8617-44c2-bbd7-52e293a781d0",
   "metadata": {},
   "outputs": [],
   "source": [
    "w.nodes = [\n",
    "    {'id': 0, 'properties': {'type': 0}},\n",
    "    {'id': 1, 'properties': {'type': 1}}, {'id': 2, 'properties': {'type': 1}}, {'id': 3, 'properties': {'type': 1}}, {'id': 4, 'properties': {'type': 1}}, {'id': 5, 'properties': {'type': 1}}, {'id': 6, 'properties': {'type': 1}},\n",
    "    {'id': 7, 'properties': {'type': 2}}, {'id': 8, 'properties': {'type': 2}}, {'id': 9, 'properties': {'type': 2}}, {'id': 10, 'properties': {'type': 2}}, {'id': 11, 'properties': {'type': 2}}, {'id': 12, 'properties': {'type': 2}},\n",
    "    {'id': 13, 'properties': {'type': 3}}, {'id': 14, 'properties': {'type': 3}}, {'id': 15, 'properties': {'type': 3}}, {'id': 16, 'properties': {'type': 3}}, {'id': 17, 'properties': {'type': 3}}, {'id': 18, 'properties': {'type': 3}},\n",
    "    {'id': 19, 'properties': {'type': 4}}\n",
    "]\n",
    "w.edges = [\n",
    "    {'id': 0, 'start': 0, 'end': 1, 'properties': {}}, {'id': 1, 'start': 0, 'end': 2, 'properties': {}}, {'id': 2, 'start': 0, 'end': 3, 'properties': {}},\n",
    "    {'id': 3, 'start': 0, 'end': 4, 'properties': {}}, {'id': 4, 'start': 0, 'end': 5, 'properties': {}}, {'id': 5, 'start': 0, 'end': 6, 'properties': {}},\n",
    "    {'id': 6, 'start': 0, 'end': 7, 'properties': {}}, {'id': 7, 'start': 0, 'end': 8, 'properties': {}}, {'id': 8, 'start': 0, 'end': 9, 'properties': {}},\n",
    "    {'id': 9, 'start': 0, 'end': 10, 'properties': {}}, {'id': 10, 'start': 0, 'end': 11, 'properties': {}}, {'id': 11, 'start': 0, 'end': 12, 'properties': {}},\n",
    "    {'id': 12, 'start': 0, 'end': 13, 'properties': {}}, {'id': 13, 'start': 0, 'end': 14, 'properties': {}}, {'id': 14, 'start': 0, 'end': 15, 'properties': {}},\n",
    "    {'id': 15, 'start': 0, 'end': 16, 'properties': {}}, {'id': 16, 'start': 0, 'end': 17, 'properties': {}}, {'id': 17, 'start': 0, 'end': 18, 'properties': {}},\n",
    "    {'id': 18, 'start': 1, 'end': 19, 'properties': {}}, {'id': 19, 'start': 2, 'end': 19, 'properties': {}}, {'id': 20, 'start': 3, 'end': 19, 'properties': {}},\n",
    "    {'id': 21, 'start': 4, 'end': 19, 'properties': {}}, {'id': 22, 'start': 5, 'end': 19, 'properties': {}}, {'id': 23, 'start': 6, 'end': 19, 'properties': {}},\n",
    "    {'id': 24, 'start': 7, 'end': 19, 'properties': {}}, {'id': 25, 'start': 8, 'end': 19, 'properties': {}}, {'id': 26, 'start': 9, 'end': 19, 'properties': {}},\n",
    "    {'id': 27, 'start': 10, 'end': 19, 'properties': {}}, {'id': 28, 'start': 11, 'end': 19, 'properties': {}}, {'id': 29, 'start': 12, 'end': 19, 'properties': {}},\n",
    "    {'id': 30, 'start': 13, 'end': 19, 'properties': {}}, {'id': 31, 'start': 14, 'end': 19, 'properties': {}}, {'id': 32, 'start': 15, 'end': 19, 'properties': {}},\n",
    "    {'id': 33, 'start': 16, 'end': 19, 'properties': {}}, {'id': 34, 'start': 17, 'end': 19, 'properties': {}}, {'id': 35, 'start': 18, 'end': 19, 'properties': {}}\n",
    "]\n",
    "w.directed = True"
   ]
  },
  {
   "cell_type": "code",
   "execution_count": null,
   "id": "a6f49dda-f3d9-4616-a3fc-559998768450",
   "metadata": {},
   "outputs": [],
   "source": [
    "colors = [\"#17bebb\", \"#ffc914\", \"#0b7189\", \"#ff6c00\", '#76b041']\n",
    "\n",
    "def custom_node_color_mapping(index: int, node: Dict):\n",
    "    \"\"\"assign colors based on type\"\"\"\n",
    "    return colors[node['properties']['type']]\n",
    "\n",
    "w.set_node_color_mapping(custom_node_color_mapping)"
   ]
  },
  {
   "cell_type": "code",
   "execution_count": null,
   "id": "c6b38299-5296-4035-8d1c-c38ad22596e1",
   "metadata": {},
   "outputs": [],
   "source": [
    "w"
   ]
  },
  {
   "cell_type": "code",
   "execution_count": null,
   "id": "fae35a0b-d840-465b-8d42-8ce019e03c45",
   "metadata": {},
   "outputs": [],
   "source": [
    "print(w.node_type_mapping.__doc__)"
   ]
  },
  {
   "cell_type": "code",
   "execution_count": null,
   "id": "2fb46bd8-9b56-4fd6-9ff0-2cf87761453f",
   "metadata": {},
   "outputs": [],
   "source": [
    "w.get_node_type_mapping()"
   ]
  },
  {
   "cell_type": "code",
   "execution_count": null,
   "id": "43277fd8-151a-4d94-99c8-8b94a4bf7ddc",
   "metadata": {},
   "outputs": [],
   "source": [
    "def custom_node_type_mapping(index: int, node: Dict):\n",
    "    \"\"\"assign type accordingly\"\"\"\n",
    "    return node['properties']['type']"
   ]
  },
  {
   "cell_type": "code",
   "execution_count": null,
   "id": "39f156b3-019d-40b8-bea7-0df93c7ac068",
   "metadata": {},
   "outputs": [],
   "source": [
    "w.set_node_type_mapping(custom_node_type_mapping)"
   ]
  },
  {
   "cell_type": "code",
   "execution_count": null,
   "id": "5dc2459c-6db8-4369-9fcd-f4e1dcf5f236",
   "metadata": {},
   "outputs": [],
   "source": [
    "w.get_node_type_mapping()"
   ]
  },
  {
   "cell_type": "code",
   "execution_count": null,
   "id": "d28b722b-6daf-403a-b579-8f788f8b80f6",
   "metadata": {},
   "outputs": [],
   "source": [
    "w"
   ]
  },
  {
   "cell_type": "code",
   "execution_count": null,
   "id": "0f1ef2e5-a34d-4c85-b607-aa15ad13fae3",
   "metadata": {},
   "outputs": [],
   "source": [
    "w.del_node_type_mapping()"
   ]
  },
  {
   "cell_type": "code",
   "execution_count": null,
   "id": "3003b214-ad5f-42ac-a4a1-7dd5c8fe3466",
   "metadata": {},
   "outputs": [],
   "source": [
    "w.get_node_type_mapping()"
   ]
  }
 ],
 "metadata": {
  "kernelspec": {
   "display_name": "Python 3",
   "language": "python",
   "name": "python3"
  },
  "language_info": {
   "codemirror_mode": {
    "name": "ipython",
    "version": 3
   },
   "file_extension": ".py",
   "mimetype": "text/x-python",
   "name": "python",
   "nbconvert_exporter": "python",
   "pygments_lexer": "ipython3",
   "version": "3.6.15"
  },
  "widgets": {
   "application/vnd.jupyter.widget-state+json": {
    "state": {},
    "version_major": 2,
    "version_minor": 0
   }
  }
 },
 "nbformat": 4,
 "nbformat_minor": 5
}
