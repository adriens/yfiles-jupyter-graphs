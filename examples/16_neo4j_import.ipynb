{
 "cells": [
  {
   "cell_type": "markdown",
   "id": "3f6f41b8-4449-45bb-8fec-72598dc80e18",
   "metadata": {},
   "source": [
    "# Visualizing Neo4j graphs in yFiles Graphs for Jupyter"
   ]
  },
  {
   "cell_type": "markdown",
   "id": "95c4bb2b-5952-43b5-8f95-6683a2d05309",
   "metadata": {},
   "source": [
    "Before using the graph widget, install all necessary packages."
   ]
  },
  {
   "cell_type": "code",
   "execution_count": null,
   "id": "9bbc5e34-b83a-48eb-b918-f08bbd149275",
   "metadata": {},
   "outputs": [],
   "source": [
    "%pip install yfiles_jupyter_graphs --quiet\n",
    "try:\n",
    "  import google.colab\n",
    "  from google.colab import output\n",
    "  output.enable_custom_widget_manager()\n",
    "except:\n",
    "  pass\n",
    "%pip install neo4j --quiet\n",
    "from neo4j import GraphDatabase\n",
    "from yfiles_jupyter_graphs import GraphWidget"
   ]
  },
  {
   "cell_type": "markdown",
   "id": "9df19056-475f-4615-8c81-3354c6f3fc8f",
   "metadata": {},
   "source": [
    "## How to import a graph\n",
    "- either import the graph directly when initilizing: ```GraphWidget(graph=your_graph)```\n",
    "- or use the ```w.import_graph(your_graph)``` function, if you already initilized a Widget called ```w```"
   ]
  },
  {
   "cell_type": "markdown",
   "id": "d8b50c96-0e49-4182-a2b8-19abd0f21557",
   "metadata": {},
   "source": [
    "## Notes about Neo4j importer\n",
    "- Graph properties are ignored.\n",
    "- Nodes and edges are identified by index.\n",
    "- Node and edge properties are extracted from corresponding property maps.\n",
    "- Default values for unset properties are used, due to the way graph tool properties work.\n",
    "- Any additional data is stored in ```properties``` under the same name"
   ]
  },
  {
   "cell_type": "code",
   "execution_count": null,
   "id": "cfcc7b8e-d0b9-438d-b608-e9161330dc2e",
   "metadata": {},
   "outputs": [],
   "source": [
    "uri      = \"neo4j+s://demo.neo4jlabs.com\" \n",
    "user     = \"movies\"          # your user name \n",
    "                              # default is always \"neo4j\" \n",
    "                              # unless you have changed it. \n",
    "password = \"movies\"\n",
    "\n",
    "driver = GraphDatabase.driver(uri=uri,auth=(user,password),database='movies')\n",
    "session = driver.session(database='movies')\n",
    "\n",
    "\n",
    "result = session.run(\"MATCH (s)-[r]->(t) RETURN s,r,t LIMIT 20\")\n",
    "\n",
    "w = GraphWidget(graph=result.graph())\n",
    "display(w)"
   ]
  },
  {
   "cell_type": "code",
   "execution_count": null,
   "id": "854ec7cf-7237-4a44-b793-de7ce9f50e6b",
   "metadata": {},
   "outputs": [],
   "source": [
    "w.nodes"
   ]
  },
  {
   "cell_type": "markdown",
   "id": "31804019-3a47-49f2-950d-5b2f4b57b224",
   "metadata": {},
   "source": [
    "### Using imported data\n",
    "\n",
    "As we can't really derive any information from this graph, we need to use the data available, that is currently stored in 'properties' to change the node and edge label mappings:"
   ]
  },
  {
   "cell_type": "code",
   "execution_count": null,
   "id": "ac965084-deff-4721-9afe-c7319f1f5579",
   "metadata": {},
   "outputs": [],
   "source": [
    "w2 = GraphWidget(graph = result.graph())\n",
    "\n",
    "def custom_node_label_mapping(index, node):\n",
    "    \"\"\"let the label be the name or the title\"\"\"\n",
    "    properties = node.get('properties', {})\n",
    "    return properties.get('title', properties.get('name', 'no label'));\n",
    "w2.node_label_mapping = custom_node_label_mapping\n",
    "\n",
    "def custom_relationship_label_mapping(index, node):\n",
    "    \"\"\"let the label be the role\"\"\"\n",
    "    properties = node.get('properties', {})\n",
    "    return properties.get('roles', ['no role'])[0];\n",
    "w2.edge_label_mapping = custom_relationship_label_mapping\n",
    "\n",
    "w2.hierarchic_layout()\n",
    "display(w2)"
   ]
  },
  {
   "cell_type": "markdown",
   "id": "093939d9-a9bd-4d16-8a44-60c5356b9ef2",
   "metadata": {},
   "source": [
    "An alternative method for changing the names and titles to labels, utilizing the \"title\" and \"name\" properties stored in the node properties:"
   ]
  },
  {
   "cell_type": "code",
   "execution_count": null,
   "id": "b2ccec0c-0e29-490c-941a-458baa03bc5e",
   "metadata": {},
   "outputs": [],
   "source": [
    "w3 = GraphWidget(graph = result.graph())\n",
    "\n",
    "w3.node_label_mapping = lambda node: node['properties']['name'] if 'name' in node['properties'] else node['properties']['title']\n",
    "\n",
    "w3.hierarchic_layout()\n",
    "display(w3)"
   ]
  }
 ],
 "metadata": {
  "kernelspec": {
   "display_name": "Python 3",
   "language": "python",
   "name": "python3"
  },
  "language_info": {
   "codemirror_mode": {
    "name": "ipython",
    "version": 3
   },
   "file_extension": ".py",
   "mimetype": "text/x-python",
   "name": "python",
   "nbconvert_exporter": "python",
   "pygments_lexer": "ipython3",
   "version": "3.6.15"
  }
 },
 "nbformat": 4,
 "nbformat_minor": 5
}
