{
 "cells": [
  {
   "cell_type": "markdown",
   "metadata": {},
   "source": [
    "# Introduction"
   ]
  },
  {
   "cell_type": "code",
   "execution_count": null,
   "metadata": {},
   "outputs": [],
   "source": [
    "from yfiles_jupyter_graphs import GraphWidget"
   ]
  },
  {
   "cell_type": "code",
   "execution_count": null,
   "metadata": {},
   "outputs": [],
   "source": [
    "w = GraphWidget()"
   ]
  },
  {
   "cell_type": "code",
   "execution_count": null,
   "metadata": {
    "tags": []
   },
   "outputs": [],
   "source": [
    "w.nodes = [\n",
    "    {\"id\": 0, \"properties\": {\"firstName\": \"Alpha\", \"label\": \"Person A\"}},\n",
    "    {\"id\": \"one\", \"properties\": {\"firstName\": \"Bravo\", \"label\": \"Person B\"}},\n",
    "    {\"id\": 2.0, \"properties\": {\"firstName\": \"Charlie\", \"label\": \"Person C\", \"has_hat\": False}},\n",
    "    {\"id\": True, \"properties\": {\"firstName\": \"Delta\", \"label\": \"Person D\", \"likes_pizza\": True}}\n",
    "]\n",
    "w.edges = [\n",
    "    {\"id\": \"zero\", \"start\": 0, \"end\": \"one\", \"properties\": {\"since\": \"1992\", \"label\": \"knows\"}},\n",
    "    {\"id\": 1, \"start\": \"one\", \"end\": True, \"properties\": {\"label\": \"knows\", \"since\": \"1992\"}},\n",
    "    {\"id\": 2.0, \"start\": 2.0, \"end\": True, \"properties\": {\"label\": \"knows\", \"since\": \"1992\"}},\n",
    "    {\"id\": False, \"start\": 0, \"end\": 2.0, \"properties\": {\"label\": \"knows\", \"since\": 234}}\n",
    "]\n",
    "w.directed = True"
   ]
  },
  {
   "cell_type": "code",
   "execution_count": null,
   "metadata": {},
   "outputs": [],
   "source": [
    "w.show()  # or just w"
   ]
  },
  {
   "cell_type": "markdown",
   "metadata": {
    "tags": []
   },
   "source": [
    "####\n",
    "#### Mappings (see other examples and docs) are applied before showing widget."
   ]
  },
  {
   "cell_type": "code",
   "execution_count": null,
   "metadata": {
    "tags": []
   },
   "outputs": [],
   "source": [
    "w.nodes"
   ]
  },
  {
   "cell_type": "code",
   "execution_count": null,
   "metadata": {},
   "outputs": [],
   "source": [
    "w.edges"
   ]
  }
 ],
 "metadata": {
  "kernelspec": {
   "display_name": "Python 3",
   "language": "python",
   "name": "python3"
  },
  "language_info": {
   "codemirror_mode": {
    "name": "ipython",
    "version": 3
   },
   "file_extension": ".py",
   "mimetype": "text/x-python",
   "name": "python",
   "nbconvert_exporter": "python",
   "pygments_lexer": "ipython3",
   "version": "3.6.15"
  },
  "widgets": {
   "application/vnd.jupyter.widget-state+json": {
    "state": {},
    "version_major": 2,
    "version_minor": 0
   }
  }
 },
 "nbformat": 4,
 "nbformat_minor": 4
}
