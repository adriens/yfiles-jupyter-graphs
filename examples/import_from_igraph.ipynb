{
 "cells": [
  {
   "cell_type": "code",
   "execution_count": null,
   "id": "6e5b3e93-0385-4033-b6b6-ca8b390c6b04",
   "metadata": {},
   "outputs": [],
   "source": [
    "%pip install yfiles_jupyter_graphs --quiet\n",
    "try:\n",
    "  import google.colab\n",
    "  from google.colab import output\n",
    "  output.enable_custom_widget_manager()\n",
    "except:\n",
    "  pass"
   ]
  },
  {
   "cell_type": "code",
   "execution_count": null,
   "id": "6b936612-cac0-4ed8-a55a-f90bde45ca86",
   "metadata": {},
   "outputs": [],
   "source": [
    "%pip install igraph --quiet"
   ]
  },
  {
   "cell_type": "code",
   "execution_count": null,
   "id": "262b9c7d",
   "metadata": {},
   "outputs": [],
   "source": [
    "from igraph import Graph"
   ]
  },
  {
   "cell_type": "code",
   "execution_count": null,
   "id": "61fde4ba",
   "metadata": {},
   "outputs": [],
   "source": [
    "from yfiles_jupyter_graphs import GraphWidget"
   ]
  },
  {
   "cell_type": "markdown",
   "id": "79747ae2",
   "metadata": {},
   "source": [
    "# notes about igraph importer\n",
    "- igraph nodes/edges are identified by index"
   ]
  },
  {
   "cell_type": "markdown",
   "id": "6b4e1201",
   "metadata": {},
   "source": [
    "# import graph from tutorial\n",
    "https://igraph.org/python/tutorial/latest/tutorial.html"
   ]
  },
  {
   "cell_type": "code",
   "execution_count": null,
   "id": "0fafb533",
   "metadata": {},
   "outputs": [],
   "source": [
    "g = Graph()\n",
    "g.add_vertices(3)\n",
    "g.add_edges([(0,1), (1,2)])\n",
    "g.add_edges([(2, 0)])\n",
    "g.add_vertices(3)\n",
    "g.add_edges([(2, 3), (3, 4), (4, 5), (5, 3)])"
   ]
  },
  {
   "cell_type": "code",
   "execution_count": null,
   "id": "9f7f1320",
   "metadata": {},
   "outputs": [],
   "source": [
    "GraphWidget(graph = g)"
   ]
  },
  {
   "cell_type": "code",
   "execution_count": null,
   "id": "5fad7bdb",
   "metadata": {},
   "outputs": [],
   "source": [
    "f = Graph([(0,1), (0,2), (2,3), (3,4), (4,2), (2,5), (5,0), (6,3), (5,6)])\n",
    "f.vs[\"name\"] = [\"Alice\", \"Bob\", \"Claire\", \"Dennis\", \"Esther\", \"Frank\", \"George\"]\n",
    "f.vs[\"age\"] = [25, 31, 18, 47, 22, 23, 50]\n",
    "f.vs[\"gender\"] = [\"f\", \"m\", \"f\", \"m\", \"f\", \"m\", \"m\"]\n",
    "f.es[\"is_formal\"] = [False, False, True, True, True, False, True, False, False]"
   ]
  },
  {
   "cell_type": "code",
   "execution_count": null,
   "id": "439ca0d4",
   "metadata": {},
   "outputs": [],
   "source": [
    "GraphWidget(graph = f)"
   ]
  }
 ],
 "metadata": {
  "kernelspec": {
   "display_name": "Python 3 (ipykernel)",
   "language": "python",
   "name": "python3"
  },
  "language_info": {
   "codemirror_mode": {
    "name": "ipython",
    "version": 3
   },
   "file_extension": ".py",
   "mimetype": "text/x-python",
   "name": "python",
   "nbconvert_exporter": "python",
   "pygments_lexer": "ipython3",
   "version": "3.11.3"
  }
 },
 "nbformat": 4,
 "nbformat_minor": 5
}
