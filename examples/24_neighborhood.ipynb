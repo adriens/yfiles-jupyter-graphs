{
 "cells": [
  {
   "cell_type": "markdown",
   "id": "d9132ee5-a932-4ce7-97fc-c6d6e431ce66",
   "metadata": {},
   "source": [
    "# Configure Neighborhood"
   ]
  },
  {
   "cell_type": "markdown",
   "id": "379d347b-e610-42d8-aabf-43374883aa36",
   "metadata": {},
   "source": [
    "Before using the graph widget, install all necessary packages."
   ]
  },
  {
   "cell_type": "code",
   "execution_count": null,
   "id": "41a8c112-93cb-4f9c-b2f8-d867b09f061c",
   "metadata": {},
   "outputs": [],
   "source": [
    "%pip install yfiles_jupyter_graphs --quiet\n",
    "try:\n",
    "  import google.colab\n",
    "  from google.colab import output\n",
    "  output.enable_custom_widget_manager()\n",
    "except:\n",
    "  pass\n",
    "%pip install networkx --quiet\n",
    "from networkx import connected_caveman_graph\n",
    "from yfiles_jupyter_graphs import GraphWidget\n"
   ]
  },
  {
   "cell_type": "markdown",
   "id": "48ed1ee8-da66-4a61-93f1-83bfd421ef6e",
   "metadata": {},
   "source": [
    "## Default Neighborhood Configuration\n",
    "\n",
    "The Neighborhood starts with the depth = 1 and no selected node"
   ]
  },
  {
   "cell_type": "code",
   "execution_count": null,
   "id": "68e2bb8a-5f32-4df0-b59a-57a204eaf7dd",
   "metadata": {},
   "outputs": [],
   "source": [
    "w = GraphWidget(graph = connected_caveman_graph(3,4))\n",
    "display(w)"
   ]
  },
  {
   "cell_type": "markdown",
   "id": "1b26d61c-3848-42e5-9b56-d1bf2f5241d3",
   "metadata": {},
   "source": [
    "Let's change the depth of the Neighborhood and start with node 1:"
   ]
  },
  {
   "cell_type": "code",
   "execution_count": null,
   "id": "4404f7eb-6c56-48f4-a60f-8fc92d136c7d",
   "metadata": {},
   "outputs": [],
   "source": [
    "w2 = GraphWidget(graph = connected_caveman_graph(3,4))\n",
    "w2.set_neighborhood(3, [1])\n",
    "w2.set_sidebar(start_with = 'Neighborhood')\n",
    "display(w2)"
   ]
  }
 ],
 "metadata": {
  "kernelspec": {
   "display_name": "Python 3",
   "language": "python",
   "name": "python3"
  },
  "language_info": {
   "codemirror_mode": {
    "name": "ipython",
    "version": 3
   },
   "file_extension": ".py",
   "mimetype": "text/x-python",
   "name": "python",
   "nbconvert_exporter": "python",
   "pygments_lexer": "ipython3",
   "version": "3.6.15"
  }
 },
 "nbformat": 4,
 "nbformat_minor": 5
}
