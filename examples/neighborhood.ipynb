{
 "cells": [
  {
   "cell_type": "markdown",
   "id": "7a1bae60",
   "metadata": {
    "tags": []
   },
   "source": [
    "# Import Graph Data"
   ]
  },
  {
   "cell_type": "code",
   "execution_count": null,
   "id": "b3a23811-b7a6-4f66-8192-a74f2edc9c84",
   "metadata": {},
   "outputs": [],
   "source": [
    "%%capture\n",
    "!pip install networkx"
   ]
  },
  {
   "cell_type": "code",
   "execution_count": null,
   "id": "676d9ae8-d72d-456b-bac9-6b7d90926d66",
   "metadata": {
    "tags": []
   },
   "outputs": [],
   "source": [
    "from networkx import connected_caveman_graph"
   ]
  },
  {
   "cell_type": "code",
   "execution_count": null,
   "id": "a4d65cf9",
   "metadata": {},
   "outputs": [],
   "source": [
    "from yfiles_jupyter_graphs import GraphWidget"
   ]
  },
  {
   "cell_type": "code",
   "execution_count": null,
   "id": "55413103",
   "metadata": {},
   "outputs": [],
   "source": [
    "w = GraphWidget()"
   ]
  },
  {
   "cell_type": "code",
   "execution_count": null,
   "id": "666db306",
   "metadata": {},
   "outputs": [],
   "source": [
    "g = connected_caveman_graph(3, 4)"
   ]
  },
  {
   "cell_type": "code",
   "execution_count": null,
   "id": "fcbe55b8",
   "metadata": {
    "tags": []
   },
   "outputs": [],
   "source": [
    "w.import_graph(g)"
   ]
  },
  {
   "cell_type": "code",
   "execution_count": null,
   "id": "2478e6aa",
   "metadata": {
    "tags": []
   },
   "outputs": [],
   "source": [
    "w"
   ]
  },
  {
   "cell_type": "code",
   "execution_count": null,
   "id": "36648f5c",
   "metadata": {
    "tags": []
   },
   "outputs": [],
   "source": [
    "w.set_neighborhood(3, [1])"
   ]
  },
  {
   "cell_type": "code",
   "execution_count": null,
   "id": "9259b1ce",
   "metadata": {
    "tags": []
   },
   "outputs": [],
   "source": [
    "w"
   ]
  }
 ],
 "metadata": {
  "kernelspec": {
   "display_name": "Python 3",
   "language": "python",
   "name": "python3"
  },
  "language_info": {
   "codemirror_mode": {
    "name": "ipython",
    "version": 3
   },
   "file_extension": ".py",
   "mimetype": "text/x-python",
   "name": "python",
   "nbconvert_exporter": "python",
   "pygments_lexer": "ipython3",
   "version": "3.6.15"
  },
  "widgets": {
   "application/vnd.jupyter.widget-state+json": {
    "state": {},
    "version_major": 2,
    "version_minor": 0
   }
  }
 },
 "nbformat": 4,
 "nbformat_minor": 5
}
