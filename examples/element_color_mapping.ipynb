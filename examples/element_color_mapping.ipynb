{
 "cells": [
  {
   "cell_type": "markdown",
   "id": "2cb919b0",
   "metadata": {
    "tags": []
   },
   "source": [
    "# Element Color Mapping"
   ]
  },
  {
   "cell_type": "code",
   "execution_count": null,
   "id": "4eb58ba1-1e95-4090-b2b8-e117e35561c5",
   "metadata": {},
   "outputs": [],
   "source": [
    "%pip install yfiles_jupyter_graphs --quiet\n",
    "try:\n",
    "  import google.colab\n",
    "  from google.colab import output\n",
    "  output.enable_custom_widget_manager()\n",
    "except:\n",
    "  pass"
   ]
  },
  {
   "cell_type": "code",
   "execution_count": null,
   "id": "e69d0359-1fc6-4521-893f-7c9b93c610f7",
   "metadata": {},
   "outputs": [],
   "source": [
    "%pip install networkx --quiet"
   ]
  },
  {
   "cell_type": "code",
   "execution_count": null,
   "id": "7d346661-ad29-45cc-830d-78da02329732",
   "metadata": {},
   "outputs": [],
   "source": [
    "from random import choice, seed"
   ]
  },
  {
   "cell_type": "code",
   "execution_count": null,
   "id": "56e9f8cd",
   "metadata": {},
   "outputs": [],
   "source": [
    "from typing import Dict"
   ]
  },
  {
   "cell_type": "code",
   "execution_count": null,
   "id": "66814e79",
   "metadata": {},
   "outputs": [],
   "source": [
    "from networkx import erdos_renyi_graph"
   ]
  },
  {
   "cell_type": "code",
   "execution_count": null,
   "id": "de06f46a",
   "metadata": {},
   "outputs": [],
   "source": [
    "from yfiles_jupyter_graphs import GraphWidget"
   ]
  },
  {
   "cell_type": "code",
   "execution_count": null,
   "id": "02eb48d1-fcbf-4646-bb0e-11b5c43f00fd",
   "metadata": {},
   "outputs": [],
   "source": [
    "seed(0)"
   ]
  },
  {
   "cell_type": "code",
   "execution_count": null,
   "id": "489bd82a",
   "metadata": {},
   "outputs": [],
   "source": [
    "w = GraphWidget()"
   ]
  },
  {
   "cell_type": "code",
   "execution_count": null,
   "id": "c9c35b5a",
   "metadata": {},
   "outputs": [],
   "source": [
    "g = erdos_renyi_graph(10, 0.3, 2)"
   ]
  },
  {
   "cell_type": "code",
   "execution_count": null,
   "id": "8fbda10c",
   "metadata": {},
   "outputs": [],
   "source": [
    "w.import_graph(g)"
   ]
  },
  {
   "cell_type": "code",
   "execution_count": null,
   "id": "66fc96dd",
   "metadata": {},
   "outputs": [],
   "source": [
    "w"
   ]
  },
  {
   "cell_type": "code",
   "execution_count": null,
   "id": "58ff2c10",
   "metadata": {},
   "outputs": [],
   "source": [
    "def custom_color_mapping(index: int, node: Dict):\n",
    "    \"\"\"throw some hex numbers together\"\"\"\n",
    "    return \"#\"+''.join([choice('0123456789abcdef') for j in range(6)])"
   ]
  },
  {
   "cell_type": "markdown",
   "id": "a4adb88f-7497-4470-8b07-1f9fb0fa4daf",
   "metadata": {},
   "source": [
    "## Node Color Mapping"
   ]
  },
  {
   "cell_type": "code",
   "execution_count": null,
   "id": "fae83b40",
   "metadata": {
    "jupyter": {
     "source_hidden": true
    },
    "tags": []
   },
   "outputs": [],
   "source": [
    "print(w.node_color_mapping.__doc__)"
   ]
  },
  {
   "cell_type": "code",
   "execution_count": null,
   "id": "014955f7",
   "metadata": {
    "tags": []
   },
   "outputs": [],
   "source": [
    "w.get_node_color_mapping()"
   ]
  },
  {
   "cell_type": "code",
   "execution_count": null,
   "id": "b50490e8",
   "metadata": {
    "tags": []
   },
   "outputs": [],
   "source": [
    "w.set_node_color_mapping(custom_color_mapping)"
   ]
  },
  {
   "cell_type": "code",
   "execution_count": null,
   "id": "d3bdfcf6",
   "metadata": {
    "jupyter": {
     "source_hidden": true
    },
    "tags": []
   },
   "outputs": [],
   "source": [
    "w.get_node_color_mapping()"
   ]
  },
  {
   "cell_type": "code",
   "execution_count": null,
   "id": "a82cba89",
   "metadata": {},
   "outputs": [],
   "source": [
    "w"
   ]
  },
  {
   "cell_type": "code",
   "execution_count": null,
   "id": "cd458190",
   "metadata": {},
   "outputs": [],
   "source": [
    "w.del_node_color_mapping()"
   ]
  },
  {
   "cell_type": "code",
   "execution_count": null,
   "id": "df57d7c9",
   "metadata": {},
   "outputs": [],
   "source": [
    "w.get_node_color_mapping()"
   ]
  },
  {
   "cell_type": "markdown",
   "id": "7fff2e40",
   "metadata": {
    "tags": []
   },
   "source": [
    "## Edge Color Mapping"
   ]
  },
  {
   "cell_type": "code",
   "execution_count": null,
   "id": "9c29260c",
   "metadata": {
    "jupyter": {
     "source_hidden": true
    },
    "tags": []
   },
   "outputs": [],
   "source": [
    "print(w.edge_color_mapping.__doc__)"
   ]
  },
  {
   "cell_type": "code",
   "execution_count": null,
   "id": "1d52a396",
   "metadata": {},
   "outputs": [],
   "source": [
    "w.get_edge_color_mapping()"
   ]
  },
  {
   "cell_type": "code",
   "execution_count": null,
   "id": "9771481e",
   "metadata": {},
   "outputs": [],
   "source": [
    "w.set_edge_color_mapping(custom_color_mapping)"
   ]
  },
  {
   "cell_type": "code",
   "execution_count": null,
   "id": "ff7bad2a",
   "metadata": {},
   "outputs": [],
   "source": [
    "w.get_edge_color_mapping()"
   ]
  },
  {
   "cell_type": "code",
   "execution_count": null,
   "id": "a1f132bc",
   "metadata": {},
   "outputs": [],
   "source": [
    "w"
   ]
  },
  {
   "cell_type": "code",
   "execution_count": null,
   "id": "ae40542d",
   "metadata": {},
   "outputs": [],
   "source": [
    "w.del_edge_color_mapping()"
   ]
  },
  {
   "cell_type": "code",
   "execution_count": null,
   "id": "c873db90",
   "metadata": {},
   "outputs": [],
   "source": [
    "w.get_edge_color_mapping()"
   ]
  }
 ],
 "metadata": {
  "kernelspec": {
   "display_name": "Python 3 (ipykernel)",
   "language": "python",
   "name": "python3"
  },
  "language_info": {
   "codemirror_mode": {
    "name": "ipython",
    "version": 3
   },
   "file_extension": ".py",
   "mimetype": "text/x-python",
   "name": "python",
   "nbconvert_exporter": "python",
   "pygments_lexer": "ipython3",
   "version": "3.11.3"
  },
  "widgets": {
   "application/vnd.jupyter.widget-state+json": {
    "state": {},
    "version_major": 2,
    "version_minor": 0
   }
  }
 },
 "nbformat": 4,
 "nbformat_minor": 5
}
