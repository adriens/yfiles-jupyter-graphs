{
 "cells": [
  {
   "cell_type": "code",
   "execution_count": null,
   "id": "ce77faee",
   "metadata": {},
   "outputs": [],
   "source": [
    "from pygraphviz import AGraph"
   ]
  },
  {
   "cell_type": "code",
   "execution_count": null,
   "id": "6a805aba",
   "metadata": {},
   "outputs": [],
   "source": [
    "from yfiles_jupyter_graphs import GraphWidget"
   ]
  },
  {
   "cell_type": "markdown",
   "id": "ac46491f",
   "metadata": {},
   "source": [
    "# notes about pygraphviz importer\n",
    "- graph attributes are ignored\n",
    "- node names are saved under property label (or yf_label if key label already exists)\n",
    "- unspecified default node/edge attributes are empty (and as such shown as null in data viewer)"
   ]
  },
  {
   "cell_type": "code",
   "execution_count": null,
   "id": "660b1c16",
   "metadata": {},
   "outputs": [],
   "source": [
    "def _widget(graph):\n",
    "    # helper function\n",
    "    print(graph)\n",
    "    print('-'*20)\n",
    "    return GraphWidget(graph = graph)\n"
   ]
  },
  {
   "cell_type": "markdown",
   "id": "47ecb0c6",
   "metadata": {},
   "source": [
    "# import graph from tutorial\n",
    "https://pygraphviz.github.io/documentation/stable/tutorial.html"
   ]
  },
  {
   "cell_type": "code",
   "execution_count": null,
   "id": "7a1f5d55",
   "metadata": {},
   "outputs": [],
   "source": [
    "A = AGraph({\"1\": {\"2\": None}, \"2\": {\"1\": None, \"3\": None}, \"3\": {\"2\": None}}, ranksep=\"0.1\")\n",
    "node_list = [\"f\", \"g\", \"h\"]\n",
    "A.add_nodes_from(node_list)\n",
    "A.add_node(1)\n",
    "A.graph_attr[\"label\"] = \"Name of graph\"\n",
    "A.node_attr[\"shape\"] = \"circle\"\n",
    "A.edge_attr[\"color\"] = \"red\"\n",
    "A.add_node(1, color=\"red\")\n",
    "A.add_edge(\"b\", \"c\", color=\"blue\")\n",
    "n = A.get_node(1)\n",
    "n.attr[\"shape\"] = \"box\"\n",
    "e = A.get_edge(\"b\", \"c\")\n",
    "e.attr[\"color\"] = \"green\""
   ]
  },
  {
   "cell_type": "code",
   "execution_count": null,
   "id": "77a39668",
   "metadata": {},
   "outputs": [],
   "source": [
    "_widget(A)"
   ]
  },
  {
   "cell_type": "markdown",
   "id": "07bd2887",
   "metadata": {},
   "source": [
    "# import graph from subgraph gallery\n",
    "https://pygraphviz.github.io/documentation/stable/auto_examples/plot_subgraph.html"
   ]
  },
  {
   "cell_type": "code",
   "execution_count": null,
   "id": "c3cda3a6",
   "metadata": {},
   "outputs": [],
   "source": [
    "A = AGraph()\n",
    "A.add_edge(1, 2)\n",
    "A.add_edge(2, 3)\n",
    "A.add_edge(1, 3)\n",
    "A.add_edge(3, 4)\n",
    "A.add_edge(3, 5)\n",
    "A.add_edge(3, 6)\n",
    "A.add_edge(4, 6)\n",
    "# make a subgraph with rank='same'\n",
    "B = A.add_subgraph([4, 5, 6], name=\"s1\", rank=\"same\")\n",
    "B.graph_attr[\"rank\"] = \"same\""
   ]
  },
  {
   "cell_type": "code",
   "execution_count": null,
   "id": "dc972731",
   "metadata": {},
   "outputs": [],
   "source": [
    "_widget(A)"
   ]
  },
  {
   "cell_type": "markdown",
   "id": "676a3576",
   "metadata": {},
   "source": [
    "# import graph from attributes gallery\n",
    "https://pygraphviz.github.io/documentation/stable/auto_examples/plot_attributes.html"
   ]
  },
  {
   "cell_type": "code",
   "execution_count": null,
   "id": "b5589f88",
   "metadata": {},
   "outputs": [],
   "source": [
    "# strict (no parallel edges)\n",
    "# digraph\n",
    "# with attribute rankdir set to 'LR'\n",
    "A = AGraph(directed=True, strict=True, rankdir=\"LR\")\n",
    "# add node 1 with color red\n",
    "A.add_node(1, color=\"red\")\n",
    "A.add_node(5, color=\"blue\")\n",
    "# add some edges\n",
    "A.add_edge(1, 2, color=\"green\")\n",
    "A.add_edge(2, 3)\n",
    "A.add_edge(1, 3)\n",
    "A.add_edge(3, 4)\n",
    "A.add_edge(3, 5)\n",
    "A.add_edge(3, 6)\n",
    "A.add_edge(4, 6)\n",
    "# adjust a graph parameter\n",
    "A.graph_attr[\"epsilon\"] = \"0.001\""
   ]
  },
  {
   "cell_type": "code",
   "execution_count": null,
   "id": "1e6a7988",
   "metadata": {},
   "outputs": [],
   "source": [
    "_widget(A)"
   ]
  }
 ],
 "metadata": {
  "kernelspec": {
   "display_name": "Python 3",
   "language": "python",
   "name": "python3"
  },
  "language_info": {
   "codemirror_mode": {
    "name": "ipython",
    "version": 3
   },
   "file_extension": ".py",
   "mimetype": "text/x-python",
   "name": "python",
   "nbconvert_exporter": "python",
   "pygments_lexer": "ipython3",
   "version": "3.6.15"
  }
 },
 "nbformat": 4,
 "nbformat_minor": 5
}
