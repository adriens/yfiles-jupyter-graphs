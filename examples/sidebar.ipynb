{
 "cells": [
  {
   "cell_type": "markdown",
   "id": "40666735-722a-4db6-b9c1-5378dd279c8a",
   "metadata": {},
   "source": [
    "# Configure Sidebar"
   ]
  },
  {
   "cell_type": "code",
   "execution_count": null,
   "id": "1819fae0-6a8d-4bcb-9197-c3459950c3ad",
   "metadata": {},
   "outputs": [],
   "source": [
    "%pip install yfiles_jupyter_graphs --quiet\n",
    "try:\n",
    "  import google.colab\n",
    "  from google.colab import output\n",
    "  output.enable_custom_widget_manager()\n",
    "except:\n",
    "  pass"
   ]
  },
  {
   "cell_type": "code",
   "execution_count": null,
   "id": "af366be6-d857-49ad-a7b7-94aafbc10550",
   "metadata": {},
   "outputs": [],
   "source": [
    "%pip install networkx --quiet"
   ]
  },
  {
   "cell_type": "code",
   "execution_count": null,
   "id": "d905edd1-9eda-4b17-8ccc-5a50874add87",
   "metadata": {},
   "outputs": [],
   "source": [
    "from networkx import florentine_families_graph"
   ]
  },
  {
   "cell_type": "code",
   "execution_count": null,
   "id": "662e5642",
   "metadata": {},
   "outputs": [],
   "source": [
    "from yfiles_jupyter_graphs import GraphWidget"
   ]
  },
  {
   "cell_type": "code",
   "execution_count": null,
   "id": "fc75af53",
   "metadata": {},
   "outputs": [],
   "source": [
    "w = GraphWidget()"
   ]
  },
  {
   "cell_type": "code",
   "execution_count": null,
   "id": "d48b8b3e-c1f7-4b12-a66d-eeb0df4e143d",
   "metadata": {},
   "outputs": [],
   "source": [
    "w.import_graph(florentine_families_graph())"
   ]
  },
  {
   "cell_type": "code",
   "execution_count": null,
   "id": "dcc67587",
   "metadata": {
    "tags": []
   },
   "outputs": [],
   "source": [
    "w"
   ]
  },
  {
   "cell_type": "code",
   "execution_count": null,
   "id": "1e5ec8f5",
   "metadata": {
    "tags": []
   },
   "outputs": [],
   "source": [
    "w.set_sidebar(enabled=False)\n",
    "w"
   ]
  },
  {
   "cell_type": "code",
   "execution_count": null,
   "id": "34db864e",
   "metadata": {
    "tags": []
   },
   "outputs": [],
   "source": [
    "w.set_sidebar(start_with='Neighborhood')\n",
    "w"
   ]
  },
  {
   "cell_type": "code",
   "execution_count": null,
   "id": "9a08383d",
   "metadata": {
    "tags": []
   },
   "outputs": [],
   "source": [
    "w.set_sidebar(enabled=False, start_with='Neighborhood')\n",
    "w"
   ]
  },
  {
   "cell_type": "code",
   "execution_count": null,
   "id": "49842010",
   "metadata": {
    "tags": []
   },
   "outputs": [],
   "source": [
    "w.set_sidebar(start_with='Data')\n",
    "w"
   ]
  },
  {
   "cell_type": "code",
   "execution_count": null,
   "id": "554ad03b",
   "metadata": {
    "tags": []
   },
   "outputs": [],
   "source": [
    "w.set_sidebar(enabled=False, start_with='Data')\n",
    "w"
   ]
  },
  {
   "cell_type": "code",
   "execution_count": null,
   "id": "a70e5317-f7b5-459e-91bb-d21bfec59000",
   "metadata": {},
   "outputs": [],
   "source": [
    "w.set_sidebar(start_with='Search')\n",
    "w"
   ]
  },
  {
   "cell_type": "code",
   "execution_count": null,
   "id": "f92585d6-9b91-44a4-b76d-027222268a44",
   "metadata": {
    "tags": []
   },
   "outputs": [],
   "source": [
    "w.set_sidebar(enabled=False, start_with='Search')\n",
    "w"
   ]
  }
 ],
 "metadata": {
  "kernelspec": {
   "display_name": "Python 3 (ipykernel)",
   "language": "python",
   "name": "python3"
  },
  "language_info": {
   "codemirror_mode": {
    "name": "ipython",
    "version": 3
   },
   "file_extension": ".py",
   "mimetype": "text/x-python",
   "name": "python",
   "nbconvert_exporter": "python",
   "pygments_lexer": "ipython3",
   "version": "3.11.3"
  },
  "widgets": {
   "application/vnd.jupyter.widget-state+json": {
    "state": {},
    "version_major": 2,
    "version_minor": 0
   }
  }
 },
 "nbformat": 4,
 "nbformat_minor": 5
}
