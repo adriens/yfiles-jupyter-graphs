{
 "cells": [
  {
   "cell_type": "markdown",
   "id": "16694bcd-0ee0-408a-930c-10d0995229b7",
   "metadata": {},
   "source": [
    "# Large Diagram"
   ]
  },
  {
   "cell_type": "code",
   "execution_count": null,
   "id": "1b0f7a41-8cb0-4a68-bf08-ffe9d3267418",
   "metadata": {},
   "outputs": [],
   "source": [
    "%%capture\n",
    "!pip install networkx"
   ]
  },
  {
   "cell_type": "code",
   "execution_count": null,
   "id": "ff9b0d7d",
   "metadata": {},
   "outputs": [],
   "source": [
    "import networkx as nx"
   ]
  },
  {
   "cell_type": "code",
   "execution_count": null,
   "id": "a70aed31-2cf5-4051-a071-f827d78de8ea",
   "metadata": {},
   "outputs": [],
   "source": [
    "from yfiles_jupyter_graphs import GraphWidget"
   ]
  },
  {
   "cell_type": "code",
   "execution_count": null,
   "id": "cd4fba1a",
   "metadata": {},
   "outputs": [],
   "source": [
    "DG = nx.random_lobster(100, 0.9, 0.9)"
   ]
  },
  {
   "cell_type": "code",
   "execution_count": null,
   "id": "818ab844-1a75-4360-8d68-247a04744541",
   "metadata": {},
   "outputs": [],
   "source": [
    "len(list(DG.nodes))"
   ]
  },
  {
   "cell_type": "code",
   "execution_count": null,
   "id": "c4b4be97",
   "metadata": {},
   "outputs": [],
   "source": [
    "len(list(DG.edges))"
   ]
  },
  {
   "cell_type": "code",
   "execution_count": null,
   "id": "f925cba1",
   "metadata": {},
   "outputs": [],
   "source": [
    "w = GraphWidget()\n",
    "w.import_graph(DG)"
   ]
  },
  {
   "cell_type": "code",
   "execution_count": null,
   "id": "7a3aa50b",
   "metadata": {},
   "outputs": [],
   "source": [
    "# this might take a while\n",
    "w"
   ]
  }
 ],
 "metadata": {
  "kernelspec": {
   "display_name": "Python 3",
   "language": "python",
   "name": "python3"
  },
  "language_info": {
   "codemirror_mode": {
    "name": "ipython",
    "version": 3
   },
   "file_extension": ".py",
   "mimetype": "text/x-python",
   "name": "python",
   "nbconvert_exporter": "python",
   "pygments_lexer": "ipython3",
   "version": "3.6.15"
  },
  "widgets": {
   "application/vnd.jupyter.widget-state+json": {
    "state": {},
    "version_major": 2,
    "version_minor": 0
   }
  }
 },
 "nbformat": 4,
 "nbformat_minor": 5
}
