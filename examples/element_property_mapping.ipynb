{
 "cells": [
  {
   "cell_type": "markdown",
   "id": "b5aa8a9b-9970-4134-ae93-a3976b9a54fb",
   "metadata": {},
   "source": [
    "# Element Property Mapping"
   ]
  },
  {
   "cell_type": "code",
   "execution_count": null,
   "id": "74bcc1fa-8c3d-4050-bd8b-9858a90a2523",
   "metadata": {},
   "outputs": [],
   "source": [
    "%pip install yfiles_jupyter_graphs --quiet\n",
    "try:\n",
    "  import google.colab\n",
    "  from google.colab import output\n",
    "  output.enable_custom_widget_manager()\n",
    "except:\n",
    "  pass"
   ]
  },
  {
   "cell_type": "code",
   "execution_count": null,
   "id": "4006009d-b833-4d3e-84f8-a0839da74fac",
   "metadata": {},
   "outputs": [],
   "source": [
    "%pip install networkx --quiet"
   ]
  },
  {
   "cell_type": "code",
   "execution_count": null,
   "id": "4d0acf21",
   "metadata": {},
   "outputs": [],
   "source": [
    "from typing import Dict"
   ]
  },
  {
   "cell_type": "code",
   "execution_count": null,
   "id": "7479afb0",
   "metadata": {},
   "outputs": [],
   "source": [
    "from networkx import degree, edge_load_centrality, erdos_renyi_graph"
   ]
  },
  {
   "cell_type": "code",
   "execution_count": null,
   "id": "c671d6fe",
   "metadata": {},
   "outputs": [],
   "source": [
    "from yfiles_jupyter_graphs import GraphWidget"
   ]
  },
  {
   "cell_type": "code",
   "execution_count": null,
   "id": "4746d936",
   "metadata": {},
   "outputs": [],
   "source": [
    "w = GraphWidget()"
   ]
  },
  {
   "cell_type": "code",
   "execution_count": null,
   "id": "42147627",
   "metadata": {},
   "outputs": [],
   "source": [
    "g = erdos_renyi_graph(10, 0.3, 2)"
   ]
  },
  {
   "cell_type": "code",
   "execution_count": null,
   "id": "a5276919",
   "metadata": {},
   "outputs": [],
   "source": [
    "w.import_graph(g)"
   ]
  },
  {
   "cell_type": "code",
   "execution_count": null,
   "id": "28e87af7",
   "metadata": {},
   "outputs": [],
   "source": [
    "w"
   ]
  },
  {
   "cell_type": "markdown",
   "id": "ff6baf5d",
   "metadata": {},
   "source": [
    "## Node Property Mapping"
   ]
  },
  {
   "cell_type": "code",
   "execution_count": null,
   "id": "04cd2855",
   "metadata": {},
   "outputs": [],
   "source": [
    "degree_mapping = degree(g)\n",
    "print(degree_mapping)"
   ]
  },
  {
   "cell_type": "code",
   "execution_count": null,
   "id": "f0786581",
   "metadata": {},
   "outputs": [],
   "source": [
    "def custom_node_property_mapping(index: int, node: Dict):\n",
    "    \"\"\"use degree mapping to determine degree property\"\"\"\n",
    "    # carefull: properties are changed inplace -> deleting mapping does not restore anything\n",
    "    node['properties'].update({'degree': degree_mapping[index]})\n",
    "    return node['properties']"
   ]
  },
  {
   "cell_type": "code",
   "execution_count": null,
   "id": "77200112",
   "metadata": {},
   "outputs": [],
   "source": [
    "print(w.node_property_mapping.__doc__)"
   ]
  },
  {
   "cell_type": "code",
   "execution_count": null,
   "id": "47926f24",
   "metadata": {},
   "outputs": [],
   "source": [
    "w.get_node_property_mapping()"
   ]
  },
  {
   "cell_type": "code",
   "execution_count": null,
   "id": "504e5d1b",
   "metadata": {},
   "outputs": [],
   "source": [
    "w.set_node_property_mapping(custom_node_property_mapping)"
   ]
  },
  {
   "cell_type": "code",
   "execution_count": null,
   "id": "3998475a",
   "metadata": {},
   "outputs": [],
   "source": [
    "w.get_node_property_mapping()"
   ]
  },
  {
   "cell_type": "code",
   "execution_count": null,
   "id": "22fe5529",
   "metadata": {},
   "outputs": [],
   "source": [
    "w"
   ]
  },
  {
   "cell_type": "code",
   "execution_count": null,
   "id": "2b5f5eee",
   "metadata": {},
   "outputs": [],
   "source": [
    "w.del_node_property_mapping()"
   ]
  },
  {
   "cell_type": "code",
   "execution_count": null,
   "id": "2c6459fd",
   "metadata": {},
   "outputs": [],
   "source": [
    "w.get_node_property_mapping()"
   ]
  },
  {
   "cell_type": "markdown",
   "id": "b74c8368",
   "metadata": {},
   "source": [
    "## Edge Property Mapping"
   ]
  },
  {
   "cell_type": "code",
   "execution_count": null,
   "id": "636f68cb",
   "metadata": {},
   "outputs": [],
   "source": [
    "edge_load_centrality_mapping = edge_load_centrality(g)\n",
    "print(edge_load_centrality_mapping)"
   ]
  },
  {
   "cell_type": "code",
   "execution_count": null,
   "id": "fd52f2ba",
   "metadata": {},
   "outputs": [],
   "source": [
    "def custom_edge_property_mapping(index: int, edge: Dict):\n",
    "    \"\"\"use edge load centrality mapping to determine edge load centrality property\"\"\"\n",
    "    # works because node labels are same as index\n",
    "    # otherwise another way of indexing mapping has to be found\n",
    "    c = edge_load_centrality_mapping[(edge['start'], edge['end'])]\n",
    "    edge['properties'].update({'load_centrality': c})\n",
    "    return edge['properties'] "
   ]
  },
  {
   "cell_type": "code",
   "execution_count": null,
   "id": "0120788f",
   "metadata": {},
   "outputs": [],
   "source": [
    "print(w.edge_property_mapping.__doc__)"
   ]
  },
  {
   "cell_type": "code",
   "execution_count": null,
   "id": "44eab961",
   "metadata": {},
   "outputs": [],
   "source": [
    "w.get_edge_property_mapping()"
   ]
  },
  {
   "cell_type": "code",
   "execution_count": null,
   "id": "533b49e4-3dda-4344-ada7-9cbbc47bd36e",
   "metadata": {},
   "outputs": [],
   "source": [
    "w.set_edge_property_mapping(custom_edge_property_mapping)"
   ]
  },
  {
   "cell_type": "code",
   "execution_count": null,
   "id": "91ec6e9b",
   "metadata": {},
   "outputs": [],
   "source": [
    "w.get_edge_property_mapping()"
   ]
  },
  {
   "cell_type": "code",
   "execution_count": null,
   "id": "ea8fd039",
   "metadata": {},
   "outputs": [],
   "source": [
    "w"
   ]
  },
  {
   "cell_type": "code",
   "execution_count": null,
   "id": "7b86d73f",
   "metadata": {},
   "outputs": [],
   "source": [
    "w.del_edge_property_mapping()"
   ]
  },
  {
   "cell_type": "code",
   "execution_count": null,
   "id": "33ec11a6",
   "metadata": {},
   "outputs": [],
   "source": [
    "w.get_edge_property_mapping()"
   ]
  }
 ],
 "metadata": {
  "kernelspec": {
   "display_name": "Python 3 (ipykernel)",
   "language": "python",
   "name": "python3"
  },
  "language_info": {
   "codemirror_mode": {
    "name": "ipython",
    "version": 3
   },
   "file_extension": ".py",
   "mimetype": "text/x-python",
   "name": "python",
   "nbconvert_exporter": "python",
   "pygments_lexer": "ipython3",
   "version": "3.11.3"
  },
  "widgets": {
   "application/vnd.jupyter.widget-state+json": {
    "state": {},
    "version_major": 2,
    "version_minor": 0
   }
  }
 },
 "nbformat": 4,
 "nbformat_minor": 5
}
