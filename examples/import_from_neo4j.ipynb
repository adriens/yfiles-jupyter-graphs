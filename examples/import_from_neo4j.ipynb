{
 "cells": [
  {
   "cell_type": "code",
   "execution_count": null,
   "id": "162b9c7d",
   "metadata": {},
   "outputs": [],
   "source": [
    "from neo4j import GraphDatabase\n",
    "uri      = \"neo4j+s://demo.neo4jlabs.com\" \n",
    "user     = \"movies\"          # your user name \n",
    "                              # default is always \"neo4j\" \n",
    "                              # unless you have changed it. \n",
    "password = \"movies\"\n",
    "\n",
    "driver = GraphDatabase.driver(uri=uri,auth=(user,password),database='movies')\n",
    "session = driver.session(database='movies')\n",
    "\n",
    "\n",
    "result = session.run(\"MATCH (s)-[r]->(t) RETURN s,r,t LIMIT 20\")\n",
    "\n",
    "\n",
    "from yfiles_jupyter_graphs import GraphWidget\n",
    "\n",
    "w = GraphWidget(graph = result.graph())\n",
    "\n",
    "w.show()"
   ]
  },
  {
   "cell_type": "code",
   "execution_count": null,
   "id": "e9e6613e",
   "metadata": {},
   "outputs": [],
   "source": [
    "w2 = GraphWidget(graph = result.graph())\n",
    "\n",
    "def custom_node_label_mapping(index, node):\n",
    "    \"\"\"let the label be the negated index\"\"\"\n",
    "    properties = node.get('properties', {})\n",
    "    return properties.get('title', properties.get('name', 'no label'));\n",
    "w2.node_label_mapping = custom_node_label_mapping\n",
    "\n",
    "def custom_relationship_label_mapping(index, node):\n",
    "    \"\"\"let the label be the negated index\"\"\"\n",
    "    properties = node.get('properties', {})\n",
    "    return properties.get('roles', ['no role'])[0];\n",
    "w2.edge_label_mapping = custom_relationship_label_mapping\n",
    "\n",
    "w2.hierarchic_layout()\n",
    "w2.show()"
   ]
  }
 ],
 "metadata": {
  "kernelspec": {
   "display_name": "Python 3 (ipykernel)",
   "language": "python",
   "name": "python3"
  },
  "language_info": {
   "codemirror_mode": {
    "name": "ipython",
    "version": 3
   },
   "file_extension": ".py",
   "mimetype": "text/x-python",
   "name": "python",
   "nbconvert_exporter": "python",
   "pygments_lexer": "ipython3",
   "version": "3.8.10"
  }
 },
 "nbformat": 4,
 "nbformat_minor": 5
}
