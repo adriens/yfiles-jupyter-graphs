{
 "cells": [
  {
   "cell_type": "code",
   "execution_count": null,
   "id": "f571ea76-6942-45fc-a1cc-c300c37f3be5",
   "metadata": {},
   "outputs": [],
   "source": [
    "%pip install yfiles_jupyter_graphs --quiet\n",
    "try:\n",
    "  import google.colab\n",
    "  from google.colab import output\n",
    "  output.enable_custom_widget_manager()\n",
    "except:\n",
    "  pass"
   ]
  },
  {
   "cell_type": "code",
   "execution_count": null,
   "id": "15403f63-a53d-4575-b9df-7b685eb0260f",
   "metadata": {},
   "outputs": [],
   "source": [
    "%pip install networkx --quiet"
   ]
  },
  {
   "cell_type": "code",
   "execution_count": null,
   "id": "24df7328",
   "metadata": {},
   "outputs": [],
   "source": [
    "from networkx import Graph, DiGraph, MultiGraph, MultiDiGraph, path_graph"
   ]
  },
  {
   "cell_type": "code",
   "execution_count": null,
   "id": "dc8e9773",
   "metadata": {},
   "outputs": [],
   "source": [
    "from yfiles_jupyter_graphs import GraphWidget"
   ]
  },
  {
   "cell_type": "markdown",
   "id": "a7e56d5e",
   "metadata": {},
   "source": [
    "# notes about networkx importer\n",
    "- graph attributes are ignored\n",
    "- node identifiers are saved under property *label* (or *yf_label* if key *label* already exists)\n",
    "- subgraphs (graph as node, see networx docs) are not supported"
   ]
  },
  {
   "cell_type": "markdown",
   "id": "d2c38a82",
   "metadata": {},
   "source": [
    "# import undirected graph with self loops\n",
    "https://networkx.org/documentation/stable/reference/classes/graph.html"
   ]
  },
  {
   "cell_type": "code",
   "execution_count": null,
   "id": "6437d97c",
   "metadata": {},
   "outputs": [],
   "source": [
    "def make_graph(graph_class):\n",
    "    G = graph_class(day=\"Friday\")\n",
    "    G.add_node(\"origin\")\n",
    "    G.add_node(1)\n",
    "    G.add_nodes_from([2, 3])\n",
    "    H = path_graph(10)\n",
    "    G.add_nodes_from(H)\n",
    "    G.add_edge(1, 2)\n",
    "    G.add_edges_from([(1, 2), (1, 3)])\n",
    "    G.add_edges_from(H.edges)\n",
    "    G.add_node(1, time=\"5pm\")\n",
    "    G.add_nodes_from([3], time=\"2pm\")\n",
    "    for n in G.nodes:\n",
    "        G.add_edge(\"origin\", n)\n",
    "    G.nodes[1][\"room\"] = 714\n",
    "    G.add_edge(1, 2, weight=4.7)\n",
    "    G.add_edges_from([(3, 4), (4, 5)], color=\"red\")\n",
    "    G.add_edges_from([(1, 2, {\"color\": \"blue\"}), (2, 3, {\"weight\": 8})])\n",
    "    G[1][2][\"weight\"] = 4.7\n",
    "    G.edges[1, 2][\"weight\"] = 4\n",
    "    return G"
   ]
  },
  {
   "cell_type": "code",
   "execution_count": null,
   "id": "94166d47",
   "metadata": {},
   "outputs": [],
   "source": [
    "GraphWidget(graph = make_graph(Graph))"
   ]
  },
  {
   "cell_type": "markdown",
   "id": "4ac72c0a",
   "metadata": {},
   "source": [
    "# import directed graph with self loops\n",
    "https://networkx.org/documentation/stable/reference/classes/digraph.html"
   ]
  },
  {
   "cell_type": "code",
   "execution_count": null,
   "id": "b2e9b68c",
   "metadata": {},
   "outputs": [],
   "source": [
    "GraphWidget(graph = make_graph(DiGraph))"
   ]
  },
  {
   "cell_type": "markdown",
   "id": "7b2e789f",
   "metadata": {},
   "source": [
    "# import undirected graph with self loops and parallel edges\n",
    "https://networkx.org/documentation/stable/reference/classes/multigraph.html"
   ]
  },
  {
   "cell_type": "code",
   "execution_count": null,
   "id": "71588ffa",
   "metadata": {},
   "outputs": [],
   "source": [
    "def make_graph_(graph_class):\n",
    "    G = graph_class(day=\"Friday\")\n",
    "    G.add_node(\"origin\")\n",
    "    G.add_node(1)\n",
    "    G.add_nodes_from([2, 3])\n",
    "    H = path_graph(10)\n",
    "    G.add_nodes_from(H)\n",
    "    G.add_edge(1, 2)\n",
    "    G.add_edges_from([(1, 2), (1, 3)])\n",
    "    G.add_edges_from(H.edges)\n",
    "    G.add_node(1, time=\"5pm\")\n",
    "    G.add_nodes_from([3], time=\"2pm\")\n",
    "    for n in G.nodes:\n",
    "        G.add_edge(\"origin\", n)\n",
    "    G.add_edges_from([(4, 5, dict(route=282)), (4, 5, dict(route=37))])\n",
    "    G.add_edge(1, 2, weight=4.7)\n",
    "    G.add_edges_from([(3, 4), (4, 5)], color=\"red\")\n",
    "    G.add_edges_from([(1, 2, {\"color\": \"blue\"}), (2, 3, {\"weight\": 8})])\n",
    "    G[1][2][0][\"weight\"] = 4.7\n",
    "    G.edges[1, 2, 0][\"weight\"] = 4\n",
    "    return G"
   ]
  },
  {
   "cell_type": "code",
   "execution_count": null,
   "id": "db15a5ba",
   "metadata": {},
   "outputs": [],
   "source": [
    "GraphWidget(graph = make_graph_(MultiGraph))"
   ]
  },
  {
   "cell_type": "markdown",
   "id": "481a80d5",
   "metadata": {},
   "source": [
    "# import directed graph with self loops and parallel edges\n",
    "https://networkx.org/documentation/stable/reference/classes/multidigraph.html"
   ]
  },
  {
   "cell_type": "code",
   "execution_count": null,
   "id": "8d7fe59b",
   "metadata": {},
   "outputs": [],
   "source": [
    "GraphWidget(graph = make_graph_(MultiDiGraph))"
   ]
  }
 ],
 "metadata": {
  "kernelspec": {
   "display_name": "Python 3 (ipykernel)",
   "language": "python",
   "name": "python3"
  },
  "language_info": {
   "codemirror_mode": {
    "name": "ipython",
    "version": 3
   },
   "file_extension": ".py",
   "mimetype": "text/x-python",
   "name": "python",
   "nbconvert_exporter": "python",
   "pygments_lexer": "ipython3",
   "version": "3.11.3"
  }
 },
 "nbformat": 4,
 "nbformat_minor": 5
}
