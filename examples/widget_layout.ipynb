{
 "cells": [
  {
   "cell_type": "markdown",
   "id": "40a66827",
   "metadata": {},
   "source": [
    "# Changing Widget Layout"
   ]
  },
  {
   "cell_type": "code",
   "execution_count": null,
   "id": "03683dc3-6805-49cd-bf0a-b848b6d7c450",
   "metadata": {},
   "outputs": [],
   "source": [
    "%pip install yfiles_jupyter_graphs --quiet\n",
    "try:\n",
    "  import google.colab\n",
    "  from google.colab import output\n",
    "  output.enable_custom_widget_manager()\n",
    "except:\n",
    "  pass"
   ]
  },
  {
   "cell_type": "code",
   "execution_count": null,
   "id": "079d4da1-c88a-40e9-bc2e-819176b97636",
   "metadata": {},
   "outputs": [],
   "source": [
    "%pip install networkx --quiet"
   ]
  },
  {
   "cell_type": "code",
   "execution_count": null,
   "id": "3d9bbee4",
   "metadata": {},
   "outputs": [],
   "source": [
    "from ipywidgets import Layout"
   ]
  },
  {
   "cell_type": "code",
   "execution_count": null,
   "id": "b3b3e8cd",
   "metadata": {},
   "outputs": [],
   "source": [
    "from networkx import florentine_families_graph"
   ]
  },
  {
   "cell_type": "code",
   "execution_count": null,
   "id": "ce0b901b",
   "metadata": {},
   "outputs": [],
   "source": [
    "from yfiles_jupyter_graphs import GraphWidget"
   ]
  },
  {
   "cell_type": "code",
   "execution_count": null,
   "id": "58cf7b55",
   "metadata": {},
   "outputs": [],
   "source": [
    "w = GraphWidget()"
   ]
  },
  {
   "cell_type": "code",
   "execution_count": null,
   "id": "cb2ccd23",
   "metadata": {},
   "outputs": [],
   "source": [
    "w.import_graph(florentine_families_graph())"
   ]
  },
  {
   "cell_type": "code",
   "execution_count": null,
   "id": "c2b11bae",
   "metadata": {
    "tags": []
   },
   "outputs": [],
   "source": [
    "w"
   ]
  },
  {
   "cell_type": "code",
   "execution_count": null,
   "id": "7ea01c00",
   "metadata": {},
   "outputs": [],
   "source": [
    "w = GraphWidget(Layout(height='200px', width='80%'))"
   ]
  },
  {
   "cell_type": "code",
   "execution_count": null,
   "id": "b9a32288",
   "metadata": {},
   "outputs": [],
   "source": [
    "w.import_graph(florentine_families_graph())"
   ]
  },
  {
   "cell_type": "code",
   "execution_count": null,
   "id": "a6e18306",
   "metadata": {},
   "outputs": [],
   "source": [
    "w"
   ]
  },
  {
   "cell_type": "code",
   "execution_count": null,
   "id": "618be858",
   "metadata": {
    "tags": []
   },
   "outputs": [],
   "source": [
    "w = GraphWidget(Layout(height='120%', width='700px'))"
   ]
  },
  {
   "cell_type": "code",
   "execution_count": null,
   "id": "e313f99b",
   "metadata": {
    "tags": []
   },
   "outputs": [],
   "source": [
    "w.import_graph(florentine_families_graph())"
   ]
  },
  {
   "cell_type": "code",
   "execution_count": null,
   "id": "4c7b3f18",
   "metadata": {
    "tags": []
   },
   "outputs": [],
   "source": [
    "w"
   ]
  },
  {
   "cell_type": "code",
   "execution_count": null,
   "id": "4a4a1175",
   "metadata": {
    "tags": []
   },
   "outputs": [],
   "source": [
    "# last case does not work in standalone setting because parent dom element has no specified height"
   ]
  }
 ],
 "metadata": {
  "kernelspec": {
   "display_name": "Python 3 (ipykernel)",
   "language": "python",
   "name": "python3"
  },
  "language_info": {
   "codemirror_mode": {
    "name": "ipython",
    "version": 3
   },
   "file_extension": ".py",
   "mimetype": "text/x-python",
   "name": "python",
   "nbconvert_exporter": "python",
   "pygments_lexer": "ipython3",
   "version": "3.11.3"
  },
  "widgets": {
   "application/vnd.jupyter.widget-state+json": {
    "state": {},
    "version_major": 2,
    "version_minor": 0
   }
  }
 },
 "nbformat": 4,
 "nbformat_minor": 5
}
