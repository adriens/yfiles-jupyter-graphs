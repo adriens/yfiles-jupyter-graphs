{
 "cells": [
  {
   "cell_type": "markdown",
   "id": "11164a0f-1e27-4d4f-907b-28be64dfef46",
   "metadata": {},
   "source": [
    "# Graph Layouts"
   ]
  },
  {
   "cell_type": "markdown",
   "id": "d5dda599-a06c-42a5-8758-1fc3bc23a76b",
   "metadata": {},
   "source": [
    "There are 8 different Layouts. A layout can either be selected in the toolbar or by setting the layout beforehand via ```w.[layout_name]()```. See also the [documentation](https://yworks.github.io/yfiles-jupyter-graphs/02_graph_widget/#methods).\n",
    "\n",
    "Available automatic layout algorithms:\n",
    "* Circular\n",
    "* Hierarchic\n",
    "* Organic (default)\n",
    "* Orthogonal\n",
    "* Radial\n",
    "* Tree\n",
    "\n",
    "Additionally, the following edge routers are available:\n",
    "* Orthogonal edge router\n",
    "* Organic edge router\n",
    "\n",
    "In contrast to automatic layout algorithms, edge routers only adjust the edge path while keeping the current node positions. This works well in conjuction with setting explicit node positions as demonstrated in [04_layout_mapping.ipynb](./04_layout_mapping.ipynb) and [06_position_mapping.ipynb](./06_position_mapping.ipynb).\n",
    "\n",
    "Before using the graph widget, install all necessary packages."
   ]
  },
  {
   "cell_type": "code",
   "execution_count": null,
   "id": "67b85a4c-50a4-44e5-bea5-c47dcf6ac8cc",
   "metadata": {},
   "outputs": [],
   "source": [
    "%pip install yfiles_jupyter_graphs --quiet\n",
    "try:\n",
    "  import google.colab\n",
    "  from google.colab import output\n",
    "  output.enable_custom_widget_manager()\n",
    "except:\n",
    "  pass\n",
    "%pip install networkx --quiet\n",
    "from networkx import florentine_families_graph\n",
    "from yfiles_jupyter_graphs import GraphWidget"
   ]
  },
  {
   "cell_type": "code",
   "execution_count": null,
   "id": "bcb18821-fdb3-4795-bd13-b5cbd8ea9129",
   "metadata": {},
   "outputs": [],
   "source": [
    "w = GraphWidget(graph = florentine_families_graph())\n",
    "display(w)"
   ]
  },
  {
   "cell_type": "markdown",
   "id": "f8e67ec2-de96-449b-b99f-401635017425",
   "metadata": {},
   "source": [
    "## Circular Layout "
   ]
  },
  {
   "cell_type": "code",
   "execution_count": null,
   "id": "91766d81-92b6-45d1-9b99-b98e14641137",
   "metadata": {},
   "outputs": [],
   "source": [
    "w2 = GraphWidget(graph = florentine_families_graph())\n",
    "w2.circular_layout()\n",
    "display(w2)"
   ]
  },
  {
   "cell_type": "markdown",
   "id": "7749b671-d15c-41c4-86b4-73e7d7c6a0bb",
   "metadata": {},
   "source": [
    "## Hierarchic Layout "
   ]
  },
  {
   "cell_type": "code",
   "execution_count": null,
   "id": "a60d734a-c841-49b9-a3da-e2f7f59d4319",
   "metadata": {},
   "outputs": [],
   "source": [
    "w3 = GraphWidget(graph = florentine_families_graph())\n",
    "w3.hierarchic_layout()\n",
    "display(w3)"
   ]
  },
  {
   "cell_type": "markdown",
   "id": "e8b2f5f0-686b-46d2-8ff0-70adf4934562",
   "metadata": {},
   "source": [
    "## Organic Layout"
   ]
  },
  {
   "cell_type": "code",
   "execution_count": null,
   "id": "df9a073f-fa14-483b-be07-4e9dc06af3ae",
   "metadata": {},
   "outputs": [],
   "source": [
    "w4 = GraphWidget(graph = florentine_families_graph())\n",
    "w4.organic_layout()\n",
    "display(w4)"
   ]
  },
  {
   "cell_type": "markdown",
   "id": "a5068b61-9995-4f11-a70e-1cc59c50a2e2",
   "metadata": {},
   "source": [
    "## Orthogonal Layout"
   ]
  },
  {
   "cell_type": "code",
   "execution_count": null,
   "id": "f75dabe7-f795-4ecc-b0d1-4a036701be64",
   "metadata": {},
   "outputs": [],
   "source": [
    "w5 = GraphWidget(graph = florentine_families_graph())\n",
    "w5.orthogonal_layout()\n",
    "display(w5)"
   ]
  },
  {
   "cell_type": "markdown",
   "id": "64afbae3-1c3e-4bea-864d-19a4e78e376f",
   "metadata": {},
   "source": [
    "## Radial Layout"
   ]
  },
  {
   "cell_type": "code",
   "execution_count": null,
   "id": "8bb347df-6b53-448e-aa62-abea08b1261c",
   "metadata": {},
   "outputs": [],
   "source": [
    "w6 = GraphWidget(graph = florentine_families_graph())\n",
    "w6.radial_layout()\n",
    "display(w6)"
   ]
  },
  {
   "cell_type": "markdown",
   "id": "b6f0cc35-f9bc-4c1b-a6e1-1f64957d29cb",
   "metadata": {},
   "source": [
    "## Tree Layout "
   ]
  },
  {
   "cell_type": "code",
   "execution_count": null,
   "id": "0c0a80e3-69e8-481a-b8f8-c6a1e6a986b2",
   "metadata": {},
   "outputs": [],
   "source": [
    "w7 = GraphWidget(graph = florentine_families_graph())\n",
    "w7.tree_layout()\n",
    "display(w7)"
   ]
  },
  {
   "cell_type": "markdown",
   "id": "5825b7ea-6b56-45d2-8c2d-ad7f2690c21f",
   "metadata": {},
   "source": [
    "## Orthogonal Edge Router\n",
    "\n",
    "The edge router requires node positions, see the node position mapping example, notebook 06"
   ]
  },
  {
   "cell_type": "code",
   "execution_count": null,
   "id": "53b023c3-9b97-4999-a122-07857e6d15ea",
   "metadata": {},
   "outputs": [],
   "source": [
    "w8 = GraphWidget(graph = florentine_families_graph())\n",
    "w8.orthogonal_edge_router()\n",
    "display(w8)"
   ]
  },
  {
   "cell_type": "markdown",
   "id": "1c7f8754-8229-436a-b556-5f8f4bdf4966",
   "metadata": {},
   "source": [
    "## Organic Edge Router\n",
    "\n",
    "The edge router requires node positions, see the node position mapping example, notebook 06"
   ]
  },
  {
   "cell_type": "code",
   "execution_count": null,
   "id": "a28a9d39-2c66-4994-b298-0e73e7525965",
   "metadata": {},
   "outputs": [],
   "source": [
    "w9 = GraphWidget(graph = florentine_families_graph())\n",
    "w9.organic_edge_router()\n",
    "display(w9)"
   ]
  }
 ],
 "metadata": {
  "kernelspec": {
   "display_name": "Python 3",
   "language": "python",
   "name": "python3"
  },
  "language_info": {
   "codemirror_mode": {
    "name": "ipython",
    "version": 3
   },
   "file_extension": ".py",
   "mimetype": "text/x-python",
   "name": "python",
   "nbconvert_exporter": "python",
   "pygments_lexer": "ipython3",
   "version": "3.6.15"
  }
 },
 "nbformat": 4,
 "nbformat_minor": 5
}
