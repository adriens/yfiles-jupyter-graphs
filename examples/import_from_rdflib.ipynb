{
 "cells": [
  {
   "cell_type": "markdown",
   "metadata": {},
   "source": [
    "# Visualizing RDF graphs in yFiles Graphs for Jupyter"
   ]
  },
  {
   "cell_type": "markdown",
   "metadata": {},
   "source": [
    "Pip installs all required libraries - might require restart or page reload"
   ]
  },
  {
   "cell_type": "code",
   "execution_count": null,
   "metadata": {},
   "outputs": [],
   "source": [
    "%pip install yfiles_jupyter_graphs --quiet\n",
    "try:\n",
    "  import google.colab\n",
    "  from google.colab import output\n",
    "  output.enable_custom_widget_manager()\n",
    "except:\n",
    "  pass"
   ]
  },
  {
   "cell_type": "code",
   "execution_count": null,
   "metadata": {},
   "outputs": [],
   "source": [
    "%pip install rdflib networkx --quiet\n"
   ]
  },
  {
   "cell_type": "markdown",
   "metadata": {},
   "source": [
    "Shows how to load an RDF graph into a yFiles Jupyter Graph widget via networkx"
   ]
  },
  {
   "cell_type": "code",
   "execution_count": null,
   "metadata": {},
   "outputs": [],
   "source": [
    "from rdflib import Graph\n",
    "from yfiles_jupyter_graphs import GraphWidget\n",
    "from rdflib.extras.external_graph_libs import rdflib_to_networkx_graph\n",
    "\n",
    "# Create a Graph, add in some test data\n",
    "g = Graph()\n",
    "g.parse(\n",
    "    data=\"\"\"\n",
    "        <x:> a <c:> .\n",
    "        <y:> a <c:> .\n",
    "    \"\"\",\n",
    "    format=\"turtle\"\n",
    ")\n",
    "\n",
    "# Add in a new triple using SPATQL UPDATE\n",
    "g.update(\"\"\"INSERT DATA { <z:> a <c:> }\"\"\")\n",
    "\n",
    "# Change type of <y:> from <c:> to <d:>\n",
    "g.update(\"\"\"\n",
    "         DELETE { <y:> a <c:> }\n",
    "         INSERT { <y:> a <d:> }\n",
    "         WHERE { <y:> a <c:> }\n",
    "         \"\"\")\n",
    "\n",
    "dg = rdflib_to_networkx_graph(g, False, edge_attrs=lambda s,p,o:{})\n",
    "\n",
    "widget = GraphWidget(graph = dg)\n",
    "widget.show()"
   ]
  }
 ],
 "metadata": {
  "kernelspec": {
   "display_name": "Python 3 (ipykernel)",
   "language": "python",
   "name": "python3"
  },
  "language_info": {
   "codemirror_mode": {
    "name": "ipython",
    "version": 3
   },
   "file_extension": ".py",
   "mimetype": "text/x-python",
   "name": "python",
   "nbconvert_exporter": "python",
   "pygments_lexer": "ipython3",
   "version": "3.11.3"
  },
  "widgets": {
   "application/vnd.jupyter.widget-state+json": {
    "state": {},
    "version_major": 2,
    "version_minor": 0
   }
  }
 },
 "nbformat": 4,
 "nbformat_minor": 4
}
