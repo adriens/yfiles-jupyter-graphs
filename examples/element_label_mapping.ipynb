{
 "cells": [
  {
   "cell_type": "markdown",
   "id": "677d44d2-07a7-4c4a-98a4-860e0bb3b0c6",
   "metadata": {},
   "source": [
    "# Element Label Mapping"
   ]
  },
  {
   "cell_type": "code",
   "execution_count": null,
   "id": "090ffda3-e803-44da-b926-6771540c13ad",
   "metadata": {},
   "outputs": [],
   "source": [
    "%pip install yfiles_jupyter_graphs --quiet\n",
    "try:\n",
    "  import google.colab\n",
    "  from google.colab import output\n",
    "  output.enable_custom_widget_manager()\n",
    "except:\n",
    "  pass"
   ]
  },
  {
   "cell_type": "code",
   "execution_count": null,
   "id": "d0aa97c4-eff1-41c9-8351-27dadb14388a",
   "metadata": {},
   "outputs": [],
   "source": [
    "%pip install networkx --quiet"
   ]
  },
  {
   "cell_type": "code",
   "execution_count": null,
   "id": "56e9f8cd",
   "metadata": {},
   "outputs": [],
   "source": [
    "from typing import Dict"
   ]
  },
  {
   "cell_type": "code",
   "execution_count": null,
   "id": "66814e79",
   "metadata": {},
   "outputs": [],
   "source": [
    "from networkx import erdos_renyi_graph"
   ]
  },
  {
   "cell_type": "code",
   "execution_count": null,
   "id": "de06f46a",
   "metadata": {},
   "outputs": [],
   "source": [
    "from yfiles_jupyter_graphs import GraphWidget"
   ]
  },
  {
   "cell_type": "code",
   "execution_count": null,
   "id": "489bd82a",
   "metadata": {},
   "outputs": [],
   "source": [
    "w = GraphWidget()"
   ]
  },
  {
   "cell_type": "code",
   "execution_count": null,
   "id": "c9c35b5a",
   "metadata": {},
   "outputs": [],
   "source": [
    "g = erdos_renyi_graph(10, 0.3, 2)"
   ]
  },
  {
   "cell_type": "code",
   "execution_count": null,
   "id": "8fbda10c",
   "metadata": {},
   "outputs": [],
   "source": [
    "w.import_graph(g)"
   ]
  },
  {
   "cell_type": "code",
   "execution_count": null,
   "id": "66fc96dd",
   "metadata": {},
   "outputs": [],
   "source": [
    "w"
   ]
  },
  {
   "cell_type": "code",
   "execution_count": null,
   "id": "58ff2c10",
   "metadata": {},
   "outputs": [],
   "source": [
    "def custom_label_mapping(index: int, node: Dict):\n",
    "    \"\"\"let the label be the negated index\"\"\"\n",
    "    return '-' + str(index)"
   ]
  },
  {
   "cell_type": "markdown",
   "id": "2cb919b0",
   "metadata": {},
   "source": [
    "## Node Label Mapping"
   ]
  },
  {
   "cell_type": "code",
   "execution_count": null,
   "id": "fae83b40",
   "metadata": {},
   "outputs": [],
   "source": [
    "print(w.node_label_mapping.__doc__)"
   ]
  },
  {
   "cell_type": "code",
   "execution_count": null,
   "id": "014955f7",
   "metadata": {},
   "outputs": [],
   "source": [
    "w.get_node_label_mapping()"
   ]
  },
  {
   "cell_type": "code",
   "execution_count": null,
   "id": "b50490e8",
   "metadata": {},
   "outputs": [],
   "source": [
    "w.set_node_label_mapping(custom_label_mapping)"
   ]
  },
  {
   "cell_type": "code",
   "execution_count": null,
   "id": "d3bdfcf6",
   "metadata": {},
   "outputs": [],
   "source": [
    "w.get_node_label_mapping()"
   ]
  },
  {
   "cell_type": "code",
   "execution_count": null,
   "id": "a82cba89",
   "metadata": {},
   "outputs": [],
   "source": [
    "w"
   ]
  },
  {
   "cell_type": "code",
   "execution_count": null,
   "id": "cd458190",
   "metadata": {},
   "outputs": [],
   "source": [
    "w.del_node_label_mapping()"
   ]
  },
  {
   "cell_type": "code",
   "execution_count": null,
   "id": "df57d7c9",
   "metadata": {},
   "outputs": [],
   "source": [
    "w.get_node_label_mapping()"
   ]
  },
  {
   "cell_type": "code",
   "execution_count": null,
   "id": "98fd51f9",
   "metadata": {},
   "outputs": [],
   "source": [
    "from time import sleep\n",
    "sleep(1)"
   ]
  },
  {
   "cell_type": "markdown",
   "id": "7fff2e40",
   "metadata": {},
   "source": [
    "## Edge Label Mapping"
   ]
  },
  {
   "cell_type": "code",
   "execution_count": null,
   "id": "9c29260c",
   "metadata": {},
   "outputs": [],
   "source": [
    "print(w.edge_label_mapping.__doc__)"
   ]
  },
  {
   "cell_type": "code",
   "execution_count": null,
   "id": "1d52a396",
   "metadata": {},
   "outputs": [],
   "source": [
    "w.get_edge_label_mapping()"
   ]
  },
  {
   "cell_type": "code",
   "execution_count": null,
   "id": "9771481e",
   "metadata": {},
   "outputs": [],
   "source": [
    "w.set_edge_label_mapping(custom_label_mapping)"
   ]
  },
  {
   "cell_type": "code",
   "execution_count": null,
   "id": "ff7bad2a",
   "metadata": {},
   "outputs": [],
   "source": [
    "w.get_edge_label_mapping()"
   ]
  },
  {
   "cell_type": "code",
   "execution_count": null,
   "id": "a1f132bc",
   "metadata": {},
   "outputs": [],
   "source": [
    "w"
   ]
  },
  {
   "cell_type": "code",
   "execution_count": null,
   "id": "ae40542d",
   "metadata": {},
   "outputs": [],
   "source": [
    "w.del_edge_label_mapping()"
   ]
  },
  {
   "cell_type": "code",
   "execution_count": null,
   "id": "c873db90",
   "metadata": {},
   "outputs": [],
   "source": [
    "w.get_edge_label_mapping()"
   ]
  }
 ],
 "metadata": {
  "kernelspec": {
   "display_name": "Python 3 (ipykernel)",
   "language": "python",
   "name": "python3"
  },
  "language_info": {
   "codemirror_mode": {
    "name": "ipython",
    "version": 3
   },
   "file_extension": ".py",
   "mimetype": "text/x-python",
   "name": "python",
   "nbconvert_exporter": "python",
   "pygments_lexer": "ipython3",
   "version": "3.11.3"
  },
  "widgets": {
   "application/vnd.jupyter.widget-state+json": {
    "state": {},
    "version_major": 2,
    "version_minor": 0
   }
  }
 },
 "nbformat": 4,
 "nbformat_minor": 5
}
