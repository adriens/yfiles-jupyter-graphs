{
 "cells": [
  {
   "cell_type": "markdown",
   "id": "8b919f4a-fd0e-49b2-90c7-f538cdb68288",
   "metadata": {},
   "source": [
    "# Element Label Mapping <a target=\"_blank\" href=\"https://colab.research.google.com/github/yWorks/yfiles-jupyter-graphs/blob/main/examples/02a_label_styles_mapping.ipynb\"><img src=\"https://colab.research.google.com/assets/colab-badge.svg\" alt=\"Open In Colab\"/></a>"
   ]
  },
  {
   "cell_type": "markdown",
   "id": "08db2296-9111-4446-b82d-6afa54a3c13b",
   "metadata": {},
   "source": [
    "This notebook covers the basics of customizing label visualizations for nodes and edges.\n",
    "\n",
    "For mapping demonstrations, we'll use the same graph, ```erdos_renyi_graph```, imported from the NetworkX package. \n",
    "\n",
    "For more details on how to import graph data, explore the other example notebooks or refer to the full widget [documentation](https://yworks.github.io/yfiles-jupyter-graphs/).\n",
    "\n",
    "Before utilizing the graph widget, ensure all necessary packages are installed."
   ]
  },
  {
   "cell_type": "code",
   "execution_count": 1,
   "id": "3ce520a0-0c33-48ae-ab02-54d7aba460a8",
   "metadata": {},
   "outputs": [
    {
     "name": "stdout",
     "output_type": "stream",
     "text": [
      "Note: you may need to restart the kernel to use updated packages.\n",
      "Note: you may need to restart the kernel to use updated packages.\n"
     ]
    }
   ],
   "source": [
    "%pip install yfiles_jupyter_graphs --quiet\n",
    "from yfiles_jupyter_graphs import GraphWidget\n",
    "%pip install networkx --quiet\n",
    "from typing import Dict\n",
    "from networkx import erdos_renyi_graph\n",
    "\n",
    "g = erdos_renyi_graph(10, 0.3, 2)\n",
    "w = GraphWidget(graph=g)\n"
   ]
  },
  {
   "cell_type": "markdown",
   "id": "e090cf46-b02f-42af-9a91-279b3440ecf6",
   "metadata": {},
   "source": [
    "You can also open this notebook in Google Colab when Google Colab's custom widget manager is enabled:"
   ]
  },
  {
   "cell_type": "code",
   "execution_count": 2,
   "id": "d99602b7-b89b-46bb-a477-00172006ac05",
   "metadata": {},
   "outputs": [],
   "source": [
    "try:\n",
    "  import google.colab\n",
    "  from google.colab import output\n",
    "  output.enable_custom_widget_manager()\n",
    "except:\n",
    "  pass"
   ]
  },
  {
   "cell_type": "markdown",
   "id": "1addb8c7-84ee-47ac-aa5b-6d1b69e4d0c7",
   "metadata": {},
   "source": [
    "<a target=\"_blank\" href=\"https://colab.research.google.com/github/yWorks/yfiles-jupyter-graphs/blob/main/examples/02a_label_styles_mapping.ipynb\"><img src=\"https://colab.research.google.com/assets/colab-badge.svg\" alt=\"Open In Colab\"/></a>"
   ]
  },
  {
   "cell_type": "markdown",
   "id": "aab103ba-9d3b-4d39-bb4e-3bdfac2566d6",
   "metadata": {},
   "source": [
    "This is the graph we will be working on: "
   ]
  },
  {
   "cell_type": "code",
   "execution_count": 3,
   "id": "1a87056a-a345-4221-ad19-d1440a63f08e",
   "metadata": {},
   "outputs": [
    {
     "data": {
      "application/vnd.jupyter.widget-view+json": {
       "model_id": "e7c4d9f1bab64fe383b57d1829a39f7d",
       "version_major": 2,
       "version_minor": 0
      },
      "text/plain": [
       "GraphWidget(layout=Layout(height='500px', width='100%'))"
      ]
     },
     "metadata": {},
     "output_type": "display_data"
    }
   ],
   "source": [
    "display(w)"
   ]
  },
  {
   "cell_type": "markdown",
   "id": "81e2d7a1-6653-467a-8e87-c5f888145774",
   "metadata": {},
   "source": [
    "## Node Label Styles Mapping\n",
    "\n",
    "Additionally to the shown label text mapping in [02 Label Mapping](./02_label_mapping.ipynb), the mapping function may also return styling properties alongside the `text`. \n",
    "\n",
    "Supported visualization properties:\n",
    "* `fontSize: number`: The text size of the label.\n",
    "* `color: string`: The text color of the label.\n",
    "* `backgroundColor: string`: A color string that is used as the label's background.\n",
    "* `position: 'center' | 'north' | 'east' | 'south' | 'west'`: The label position at the node.\n",
    "* `maximumWidth: number`: The maximum width of the label. By default, the label is clipped at the given size, or wrapped when `wrapping` is set.\n",
    "* `maximumHeight: number`: The maximum height of the label. Clips the label at the given height. May be combined with `wrapping`.\n",
    "* `wrapping: 'character' | 'character_ellipsis' | 'none' | 'word' | 'word_ellipsis'`: Text wrapping for the label. Must be set in combination with `maximumWidth`.\n",
    "* `textAlignment: 'center' | 'left' | 'right'`: The horizontal text alignment when `wrapping` is enabled.\n",
    "\n",
    "For this, we define a new label mapping function and, instead of just returning a text string, we return a dictionary with a `text` property and optional styling properties:"
   ]
  },
  {
   "cell_type": "code",
   "execution_count": 4,
   "id": "371c5053-6019-4a20-af67-067f38fcbf39",
   "metadata": {},
   "outputs": [],
   "source": [
    "from datetime import datetime\n",
    "\n",
    "def custom_label_styles_mapping(node: Dict):\n",
    "    \"\"\"let the label be the negated purple big index\"\"\"\n",
    "    return {\n",
    "        'text' : datetime.now().strftime(\"%Y-%m-%d %H:%M:%S\"), \n",
    "        'backgroundColor': '#5C268B', \n",
    "        'fontSize': 20, \n",
    "        'color': '#FF6EC7', \n",
    "        'position': 'north', \n",
    "        'maximumWidth': 130, \n",
    "        'wrapping': 'word', \n",
    "        'textAlignment': 'center'\n",
    "    }"
   ]
  },
  {
   "cell_type": "markdown",
   "id": "d306b597-678e-4a07-90f1-401bff0bc7c5",
   "metadata": {},
   "source": [
    "Let's set our new label styles:"
   ]
  },
  {
   "cell_type": "code",
   "execution_count": 5,
   "id": "938719a0-d739-4ddf-8f7f-da00c1d05012",
   "metadata": {},
   "outputs": [
    {
     "data": {
      "text/plain": [
       "<function __main__.custom_label_styles_mapping(node:Dict)>"
      ]
     },
     "execution_count": 5,
     "metadata": {},
     "output_type": "execute_result"
    }
   ],
   "source": [
    "w.set_node_label_mapping(custom_label_styles_mapping)\n",
    "w.get_node_label_mapping()"
   ]
  },
  {
   "cell_type": "code",
   "execution_count": 6,
   "id": "a45c9447-74ba-48a1-bdcb-acb6e3bec468",
   "metadata": {},
   "outputs": [
    {
     "data": {
      "application/vnd.jupyter.widget-view+json": {
       "model_id": "e7c4d9f1bab64fe383b57d1829a39f7d",
       "version_major": 2,
       "version_minor": 0
      },
      "text/plain": [
       "GraphWidget(layout=Layout(height='500px', width='100%'))"
      ]
     },
     "metadata": {},
     "output_type": "display_data"
    }
   ],
   "source": [
    "display(w)"
   ]
  },
  {
   "cell_type": "markdown",
   "id": "711a763a-e897-4e2b-bca0-4a4640c5f235",
   "metadata": {},
   "source": [
    "If the mapping is deleted, it reverts back to the default mapping."
   ]
  },
  {
   "cell_type": "code",
   "execution_count": 7,
   "id": "5f64587f-1035-4649-a751-32022baac797",
   "metadata": {},
   "outputs": [
    {
     "data": {
      "text/plain": [
       "<function yfiles_jupyter_graphs.widget.GraphWidget.default_node_label_mapping(index:int, node:Dict)>"
      ]
     },
     "execution_count": 7,
     "metadata": {},
     "output_type": "execute_result"
    }
   ],
   "source": [
    "w.del_node_label_mapping()\n",
    "w.get_node_label_mapping()"
   ]
  },
  {
   "cell_type": "markdown",
   "id": "1d216797-d219-4d9e-a4f4-808dcb8bd390",
   "metadata": {},
   "source": [
    "## Edge Label Mapping\n",
    "\n",
    "Similar to the node labels mapping function, the edge label mapping function may also return styling properties alongside the `text`. \n",
    "\n",
    "It supports the same optional visualization properties:\n",
    "* `fontSize: number`: The text size of the label.\n",
    "* `color: string`: The text color of the label.\n",
    "* `backgroundColor: string`: A color string that is used as the label's background\n",
    "\n",
    "Here, we will use the same mapping function as for the nodes. Let's set our new edge styles:"
   ]
  },
  {
   "cell_type": "code",
   "execution_count": 8,
   "id": "3cb41d68-d190-4e48-b91d-58a8973463c7",
   "metadata": {},
   "outputs": [
    {
     "data": {
      "text/plain": [
       "<function __main__.custom_label_styles_mapping(node:Dict)>"
      ]
     },
     "execution_count": 8,
     "metadata": {},
     "output_type": "execute_result"
    }
   ],
   "source": [
    "w2 = GraphWidget(graph=g)\n",
    "w2.set_edge_label_mapping(custom_label_styles_mapping)\n",
    "w2.get_edge_label_mapping()"
   ]
  },
  {
   "cell_type": "code",
   "execution_count": 9,
   "id": "70a11fd8-e8ff-40ce-ba01-94762d3fd78d",
   "metadata": {},
   "outputs": [
    {
     "data": {
      "application/vnd.jupyter.widget-view+json": {
       "model_id": "20d33b73e3a6463dacc6f2ae6ed7a685",
       "version_major": 2,
       "version_minor": 0
      },
      "text/plain": [
       "GraphWidget(layout=Layout(height='500px', width='100%'))"
      ]
     },
     "metadata": {},
     "output_type": "display_data"
    }
   ],
   "source": [
    "display(w2)"
   ]
  },
  {
   "cell_type": "markdown",
   "id": "f80d8bcd-6f6f-48f7-8c6a-aed259425365",
   "metadata": {},
   "source": [
    "If a edge label mapping is deleted, the label mapping reverts back to the default mapping."
   ]
  },
  {
   "cell_type": "code",
   "execution_count": 10,
   "id": "1b31186d-0cbb-4e2b-903e-83a9a3659640",
   "metadata": {},
   "outputs": [
    {
     "data": {
      "text/plain": [
       "<function yfiles_jupyter_graphs.widget.GraphWidget.default_edge_label_mapping(index:int, edge:Dict)>"
      ]
     },
     "execution_count": 10,
     "metadata": {},
     "output_type": "execute_result"
    }
   ],
   "source": [
    "w2.del_edge_label_mapping()\n",
    "w2.get_edge_label_mapping()"
   ]
  }
 ],
 "metadata": {
  "kernelspec": {
   "display_name": "Python 3",
   "language": "python",
   "name": "python3"
  },
  "language_info": {
   "codemirror_mode": {
    "name": "ipython",
    "version": 3
   },
   "file_extension": ".py",
   "mimetype": "text/x-python",
   "name": "python",
   "nbconvert_exporter": "python",
   "pygments_lexer": "ipython3",
   "version": "3.6.15"
  }
 },
 "nbformat": 4,
 "nbformat_minor": 5
}
