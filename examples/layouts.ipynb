{
 "cells": [
  {
   "cell_type": "markdown",
   "id": "052132ef-c8c6-4350-9cec-0e877c2a8a41",
   "metadata": {
    "tags": []
   },
   "source": [
    "# Graph Layouts"
   ]
  },
  {
   "cell_type": "code",
   "execution_count": null,
   "id": "85dc7d83-0aeb-412a-882e-98c5c57cee31",
   "metadata": {
    "tags": []
   },
   "outputs": [],
   "source": [
    "%%capture\n",
    "!pip install networkx"
   ]
  },
  {
   "cell_type": "code",
   "execution_count": null,
   "id": "1c160ddd-00b0-4f9f-97ee-d397fdd624ab",
   "metadata": {},
   "outputs": [],
   "source": [
    "from networkx import florentine_families_graph"
   ]
  },
  {
   "cell_type": "code",
   "execution_count": null,
   "id": "d6ad372a",
   "metadata": {},
   "outputs": [],
   "source": [
    "from yfiles_jupyter_graphs import GraphWidget"
   ]
  },
  {
   "cell_type": "code",
   "execution_count": null,
   "id": "5178124b",
   "metadata": {},
   "outputs": [],
   "source": [
    "w = GraphWidget()"
   ]
  },
  {
   "cell_type": "code",
   "execution_count": null,
   "id": "e844665c-e083-4d15-bdd1-ca742b0e973f",
   "metadata": {},
   "outputs": [],
   "source": [
    "w.import_graph(florentine_families_graph())"
   ]
  },
  {
   "cell_type": "code",
   "execution_count": null,
   "id": "9b48cf1e",
   "metadata": {
    "tags": []
   },
   "outputs": [],
   "source": [
    "w"
   ]
  },
  {
   "cell_type": "code",
   "execution_count": null,
   "id": "8669a831",
   "metadata": {
    "tags": []
   },
   "outputs": [],
   "source": [
    "w.circular_layout()\n",
    "w"
   ]
  },
  {
   "cell_type": "code",
   "execution_count": null,
   "id": "fc3dfb63",
   "metadata": {
    "tags": []
   },
   "outputs": [],
   "source": [
    "w.hierarchic_layout()\n",
    "w"
   ]
  },
  {
   "cell_type": "code",
   "execution_count": null,
   "id": "3bd79f7b",
   "metadata": {
    "tags": []
   },
   "outputs": [],
   "source": [
    "w.organic_layout()\n",
    "w"
   ]
  },
  {
   "cell_type": "code",
   "execution_count": null,
   "id": "98d12fbc",
   "metadata": {
    "tags": []
   },
   "outputs": [],
   "source": [
    "w.orthogonal_layout()\n",
    "w"
   ]
  },
  {
   "cell_type": "code",
   "execution_count": null,
   "id": "623093d8",
   "metadata": {},
   "outputs": [],
   "source": [
    "w.radial_layout()\n",
    "w"
   ]
  },
  {
   "cell_type": "code",
   "execution_count": null,
   "id": "102037fb",
   "metadata": {},
   "outputs": [],
   "source": [
    "w.tree_layout()\n",
    "w"
   ]
  },
  {
   "cell_type": "code",
   "execution_count": null,
   "id": "a4ed3cf3",
   "metadata": {},
   "outputs": [],
   "source": [
    "# edge router needs node positions, see node position mapping example\n",
    "w.orthogonal_edge_router()\n",
    "w"
   ]
  },
  {
   "cell_type": "code",
   "execution_count": null,
   "id": "b1dd51c8",
   "metadata": {},
   "outputs": [],
   "source": [
    "# edge router needs node positions, see node position mapping example\n",
    "w.organic_edge_router()\n",
    "w"
   ]
  }
 ],
 "metadata": {
  "kernelspec": {
   "display_name": "Python 3",
   "language": "python",
   "name": "python3"
  },
  "language_info": {
   "codemirror_mode": {
    "name": "ipython",
    "version": 3
   },
   "file_extension": ".py",
   "mimetype": "text/x-python",
   "name": "python",
   "nbconvert_exporter": "python",
   "pygments_lexer": "ipython3",
   "version": "3.6.15"
  },
  "widgets": {
   "application/vnd.jupyter.widget-state+json": {
    "state": {},
    "version_major": 2,
    "version_minor": 0
   }
  }
 },
 "nbformat": 4,
 "nbformat_minor": 5
}
