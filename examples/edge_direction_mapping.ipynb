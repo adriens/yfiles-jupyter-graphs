{
 "cells": [
  {
   "cell_type": "markdown",
   "id": "a68a7443",
   "metadata": {},
   "source": [
    "# Edge Direction Mapping"
   ]
  },
  {
   "cell_type": "code",
   "execution_count": null,
   "id": "925037b9-bed1-4af1-85e3-6a1f2431a345",
   "metadata": {},
   "outputs": [],
   "source": [
    "%pip install yfiles_jupyter_graphs --quiet\n",
    "try:\n",
    "  import google.colab\n",
    "  from google.colab import output\n",
    "  output.enable_custom_widget_manager()\n",
    "except:\n",
    "  pass"
   ]
  },
  {
   "cell_type": "code",
   "execution_count": null,
   "id": "c1f51c9c-633f-4a86-a2cf-905bd35b9beb",
   "metadata": {},
   "outputs": [],
   "source": [
    "%pip install networkx --quiet"
   ]
  },
  {
   "cell_type": "code",
   "execution_count": null,
   "id": "2f5ca45d-9f68-4187-91e0-f5c9724a7b7b",
   "metadata": {},
   "outputs": [],
   "source": [
    "from random import seed, random"
   ]
  },
  {
   "cell_type": "code",
   "execution_count": null,
   "id": "db16cae8",
   "metadata": {},
   "outputs": [],
   "source": [
    "from typing import Dict"
   ]
  },
  {
   "cell_type": "code",
   "execution_count": null,
   "id": "533d73e5",
   "metadata": {},
   "outputs": [],
   "source": [
    "from networkx import erdos_renyi_graph"
   ]
  },
  {
   "cell_type": "code",
   "execution_count": null,
   "id": "496e8e73",
   "metadata": {},
   "outputs": [],
   "source": [
    "from yfiles_jupyter_graphs import GraphWidget"
   ]
  },
  {
   "cell_type": "code",
   "execution_count": null,
   "id": "17ec9cdd-4316-46e0-ac79-1073c594d798",
   "metadata": {},
   "outputs": [],
   "source": [
    "seed(0)"
   ]
  },
  {
   "cell_type": "code",
   "execution_count": null,
   "id": "9fe60987",
   "metadata": {},
   "outputs": [],
   "source": [
    "w = GraphWidget()"
   ]
  },
  {
   "cell_type": "code",
   "execution_count": null,
   "id": "cddf6f47",
   "metadata": {},
   "outputs": [],
   "source": [
    "g = erdos_renyi_graph(10, 0.3, 2)"
   ]
  },
  {
   "cell_type": "code",
   "execution_count": null,
   "id": "aa6eae92",
   "metadata": {},
   "outputs": [],
   "source": [
    "w.import_graph(g)"
   ]
  },
  {
   "cell_type": "code",
   "execution_count": null,
   "id": "9718878e",
   "metadata": {
    "tags": []
   },
   "outputs": [],
   "source": [
    "w"
   ]
  },
  {
   "cell_type": "code",
   "execution_count": null,
   "id": "aa850cfe",
   "metadata": {
    "tags": []
   },
   "outputs": [],
   "source": [
    "print(w.directed_mapping.__doc__)"
   ]
  },
  {
   "cell_type": "code",
   "execution_count": null,
   "id": "21c8ca21",
   "metadata": {
    "tags": []
   },
   "outputs": [],
   "source": [
    "w.get_directed_mapping()"
   ]
  },
  {
   "cell_type": "code",
   "execution_count": null,
   "id": "0b29b5dd",
   "metadata": {},
   "outputs": [],
   "source": [
    "def custom_directed_mapping(index: int, edge: Dict):\n",
    "    \"\"\"choose randomly if edge is directed\"\"\"\n",
    "    return random() < 0.5"
   ]
  },
  {
   "cell_type": "code",
   "execution_count": null,
   "id": "c7586382-ebdb-4e0f-8678-8a0755298684",
   "metadata": {},
   "outputs": [],
   "source": [
    "w.set_directed_mapping(custom_directed_mapping)"
   ]
  },
  {
   "cell_type": "code",
   "execution_count": null,
   "id": "2a8e03b5",
   "metadata": {
    "tags": []
   },
   "outputs": [],
   "source": [
    "w.get_directed_mapping()"
   ]
  },
  {
   "cell_type": "code",
   "execution_count": null,
   "id": "08cef0c2",
   "metadata": {},
   "outputs": [],
   "source": [
    "w"
   ]
  },
  {
   "cell_type": "code",
   "execution_count": null,
   "id": "4764a7df",
   "metadata": {},
   "outputs": [],
   "source": [
    "w.del_directed_mapping()"
   ]
  },
  {
   "cell_type": "code",
   "execution_count": null,
   "id": "669dad9b",
   "metadata": {},
   "outputs": [],
   "source": [
    "w.get_directed_mapping()"
   ]
  }
 ],
 "metadata": {
  "kernelspec": {
   "display_name": "Python 3 (ipykernel)",
   "language": "python",
   "name": "python3"
  },
  "language_info": {
   "codemirror_mode": {
    "name": "ipython",
    "version": 3
   },
   "file_extension": ".py",
   "mimetype": "text/x-python",
   "name": "python",
   "nbconvert_exporter": "python",
   "pygments_lexer": "ipython3",
   "version": "3.11.3"
  },
  "widgets": {
   "application/vnd.jupyter.widget-state+json": {
    "state": {},
    "version_major": 2,
    "version_minor": 0
   }
  }
 },
 "nbformat": 4,
 "nbformat_minor": 5
}
